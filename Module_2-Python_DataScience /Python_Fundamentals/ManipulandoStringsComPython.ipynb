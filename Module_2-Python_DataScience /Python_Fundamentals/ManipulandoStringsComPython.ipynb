{
  "nbformat": 4,
  "nbformat_minor": 0,
  "metadata": {
    "colab": {
      "provenance": [],
      "authorship_tag": "ABX9TyPUMlcLAx9vliLYBqBe/Hfw"
    },
    "kernelspec": {
      "name": "python3",
      "display_name": "Python 3"
    },
    "language_info": {
      "name": "python"
    }
  },
  "cells": [
    {
      "cell_type": "markdown",
      "source": [
        "# 🔤 Dominando Strings e Fatiamento\n",
        "\n",
        "Bem-vindo ao seu guia de estudos em formato Jupyter Notebook! Abaixo está uma estrutura organizada para acompanhar as aulas sobre manipulação de strings em Python.\n",
        "\n",
        "### 📋 Índice de Aulas\n",
        "\n",
        "| # | Tópico | Duração |\n",
        "|---|--------|---------|\n",
        "| 1 | Conhecendo métodos úteis da classe string | 19:47 min |\n",
        "| 2 | Interpolação de variáveis | 24:13 min |\n",
        "| 3 | Fatiamento de string | 05:54 min |\n",
        "| 4 | String múltiplas linhas | 07:54 min |\n",
        "\n",
        "<br/>\n",
        "\n",
        "---\n",
        "\n",
        "## 🧰 Aula 1: Conhecendo métodos úteis da classe string\n",
        "\n",
        "```python\n",
        "# Seção para suas anotações sobre métodos úteis da classe string\n",
        "\n",
        "# Criando uma string\n",
        "texto = \"Python é uma linguagem incrível!\"\n",
        "print(texto)\n",
        "\n",
        "# Métodos de transformação\n",
        "print(texto.upper())  # Converte para maiúsculas\n",
        "print(texto.lower())  # Converte para minúsculas\n",
        "print(texto.title())  # Primeira letra de cada palavra em maiúscula\n",
        "print(texto.capitalize())  # Primeira letra da string em maiúscula\n",
        "print(texto.swapcase())  # Inverte maiúsculas e minúsculas\n",
        "\n",
        "# Métodos de verificação\n",
        "print(texto.startswith(\"Python\"))  # Verifica se começa com \"Python\"\n",
        "print(texto.endswith(\"!\"))  # Verifica se termina com \"!\"\n",
        "print(texto.isalpha())  # Verifica se todos os caracteres são letras\n",
        "print(texto.isdigit())  # Verifica se todos os caracteres são dígitos\n",
        "print(texto.isalnum())  # Verifica se todos os caracteres são alfanuméricos\n",
        "print(\"123\".isdigit())  # Verifica se todos os caracteres são dígitos\n",
        "\n",
        "# Métodos de busca\n",
        "print(texto.find(\"linguagem\"))  # Retorna o índice da primeira ocorrência\n",
        "print(texto.count(\"i\"))  # Conta quantas vezes o caractere aparece\n",
        "\n",
        "# Métodos de substituição\n",
        "print(texto.replace(\"incrível\", \"fantástica\"))  # Substitui uma substring por outra\n",
        "\n",
        "# Métodos de remoção de espaços\n",
        "texto_com_espacos = \"   Python   \"\n",
        "print(texto_com_espacos.strip())  # Remove espaços no início e fim\n",
        "print(texto_com_espacos.lstrip())  # Remove espaços à esquerda\n",
        "print(texto_com_espacos.rstrip())  # Remove espaços à direita\n",
        "\n",
        "# Métodos de divisão e junção\n",
        "palavras = texto.split()  # Divide a string em uma lista de substrings\n",
        "print(palavras)\n",
        "print(\" | \".join(palavras))  # Junta as substrings com um separador\n",
        "```\n",
        "\n",
        "<br/>\n",
        "\n",
        "---\n",
        "\n",
        "\n",
        "\n",
        "## 📚 Notas Adicionais\n",
        "\n",
        "```python\n",
        "# Use esta seção para suas anotações gerais, dúvidas e insights durante o curso\n",
        "\n",
        "\"\"\"\n",
        "Dicas importantes:\n",
        "- Strings em Python são imutáveis - métodos como replace() retornam uma nova string\n",
        "- f-strings são a forma mais moderna e recomendada para interpolação\n",
        "- O fatiamento é uma técnica poderosa para extrair partes específicas de strings\n",
        "- Strings de múltiplas linhas são úteis para textos longos ou formatados\n",
        "- A documentação oficial do Python é uma excelente referência: https://docs.python.org/pt-br/3/library/stdtypes.html#string-methods\n",
        "\n",
        "Casos de uso comuns:\n",
        "- Processamento de texto e análise de dados\n",
        "- Manipulação de arquivos e logs\n",
        "- Formatação de saídas para relatórios\n",
        "- Validação de entradas de usuário\n",
        "- Parsing de dados estruturados\n",
        "\"\"\"\n",
        "```\n",
        "\n",
        "---"
      ],
      "metadata": {
        "id": "LlkxZlYNDRpt"
      }
    },
    {
      "cell_type": "code",
      "execution_count": 2,
      "metadata": {
        "colab": {
          "base_uri": "https://localhost:8080/"
        },
        "id": "iKtpNk46DJCT",
        "outputId": "f64ae378-8b1f-442d-8254-b18e851d36c6"
      },
      "outputs": [
        {
          "output_type": "stream",
          "name": "stdout",
          "text": [
            "Python é uma linguagem incrível!\n",
            "PYTHON É UMA LINGUAGEM INCRÍVEL!\n",
            "python é uma linguagem incrível!\n",
            "Python É Uma Linguagem Incrível!\n",
            "Python é uma linguagem incrível!\n",
            "pYTHON É UMA LINGUAGEM INCRÍVEL!\n"
          ]
        }
      ],
      "source": [
        "# Criando uma string\n",
        "texto = \"Python é uma linguagem incrível!\"\n",
        "print(texto)\n",
        "\n",
        "# Métodos de transformação\n",
        "print(texto.upper())  # Converte para maiúsculas\n",
        "print(texto.lower())  # Converte para minúsculas\n",
        "print(texto.title())  # Primeira letra de cada palavra em maiúscula\n",
        "print(texto.capitalize())  # Primeira letra da string em maiúscula\n",
        "print(texto.swapcase())  # Inverte maiúsculas e minúsculas"
      ]
    },
    {
      "cell_type": "code",
      "source": [
        "curso = \"Python\"\n",
        "\n",
        "print(curso.center(100, \"=\"))\n",
        "print(curso.ljust(100, \"<\"))\n",
        "print(curso.rjust(100, \">\"))\n",
        "print(curso.center(100))"
      ],
      "metadata": {
        "colab": {
          "base_uri": "https://localhost:8080/"
        },
        "id": "gUMQYbeGF6e-",
        "outputId": "91d943b9-724e-4de1-86b2-b27675e4a8f7"
      },
      "execution_count": 23,
      "outputs": [
        {
          "output_type": "stream",
          "name": "stdout",
          "text": [
            "===============================================Python===============================================\n",
            "Python<<<<<<<<<<<<<<<<<<<<<<<<<<<<<<<<<<<<<<<<<<<<<<<<<<<<<<<<<<<<<<<<<<<<<<<<<<<<<<<<<<<<<<<<<<<<<<\n",
            ">>>>>>>>>>>>>>>>>>>>>>>>>>>>>>>>>>>>>>>>>>>>>>>>>>>>>>>>>>>>>>>>>>>>>>>>>>>>>>>>>>>>>>>>>>>>>>Python\n",
            "                                               Python                                               \n"
          ]
        }
      ]
    },
    {
      "cell_type": "code",
      "source": [
        "print(\".\".join(curso))"
      ],
      "metadata": {
        "colab": {
          "base_uri": "https://localhost:8080/"
        },
        "id": "5amRBiddGLUx",
        "outputId": "dad6fa59-c287-4063-c3ce-55d2c5ede94d"
      },
      "execution_count": 26,
      "outputs": [
        {
          "output_type": "stream",
          "name": "stdout",
          "text": [
            "P.y.t.h.o.n\n"
          ]
        }
      ]
    },
    {
      "cell_type": "code",
      "source": [
        "# Métodos de verificação\n",
        "print(texto.startswith(\"Python\"))  # Verifica se começa com \"Python\"\n",
        "print(texto.endswith(\"!\"))  # Verifica se termina com \"!\"\n",
        "print(texto.isalpha())  # Verifica se todos os caracteres são letras\n",
        "print(texto.isdigit())  # Verifica se todos os caracteres são dígitos\n",
        "print(texto.isalnum())  # Verifica se todos os caracteres são alfanuméricos\n",
        "print(\"123\".isdigit())  # Verifica se todos os caracteres são dígitos\n"
      ],
      "metadata": {
        "colab": {
          "base_uri": "https://localhost:8080/"
        },
        "id": "VhJZ64BEHflf",
        "outputId": "85d49b70-2c88-453d-d59c-50ed1629224f"
      },
      "execution_count": 28,
      "outputs": [
        {
          "output_type": "stream",
          "name": "stdout",
          "text": [
            "True\n",
            "True\n",
            "False\n",
            "False\n",
            "False\n",
            "True\n"
          ]
        }
      ]
    },
    {
      "cell_type": "code",
      "source": [
        "# Métodos de busca\n",
        "print(texto.find(\"P\"))  # Retorna o índice da primeira ocorrência\n",
        "print(texto.count(\"i\"))  # Conta quantas vezes o caractere aparece"
      ],
      "metadata": {
        "colab": {
          "base_uri": "https://localhost:8080/"
        },
        "id": "j9msZTBzHixr",
        "outputId": "bda8cf7b-28f9-413e-fdeb-a9cb0b8b0a84"
      },
      "execution_count": 31,
      "outputs": [
        {
          "output_type": "stream",
          "name": "stdout",
          "text": [
            "0\n",
            "2\n"
          ]
        }
      ]
    },
    {
      "cell_type": "code",
      "source": [
        "# Métodos de divisão e junção\n",
        "palavras = texto.split()  # Divide a string em uma lista de substrings\n",
        "print(palavras)\n",
        "print(\" | \".join(palavras))  # Junta as substrings com um separador"
      ],
      "metadata": {
        "colab": {
          "base_uri": "https://localhost:8080/"
        },
        "id": "bycCnDOcHoLc",
        "outputId": "18c8ab82-8b90-4688-868a-998d723a0865"
      },
      "execution_count": 33,
      "outputs": [
        {
          "output_type": "stream",
          "name": "stdout",
          "text": [
            "['Python', 'é', 'uma', 'linguagem', 'incrível!']\n",
            "Python | é | uma | linguagem | incrível!\n"
          ]
        }
      ]
    },
    {
      "cell_type": "code",
      "source": [
        "# Métodos de remoção de espaços\n",
        "texto_com_espacos = \"   Python   \"\n",
        "print(texto_com_espacos.strip())  # Remove espaços no início e fim\n",
        "print(texto_com_espacos.lstrip())  # Remove espaços à esquerda\n",
        "print(texto_com_espacos.rstrip())  # Remove espaços à direita"
      ],
      "metadata": {
        "colab": {
          "base_uri": "https://localhost:8080/"
        },
        "id": "iTpVcZMsILva",
        "outputId": "070fd2a7-4b59-4d47-b538-7b64ea92e0ad"
      },
      "execution_count": 34,
      "outputs": [
        {
          "output_type": "stream",
          "name": "stdout",
          "text": [
            "Python\n",
            "Python   \n",
            "   Python\n"
          ]
        }
      ]
    },
    {
      "cell_type": "markdown",
      "source": [
        "---\n",
        "\n",
        "## 📝 Aula 2: Interpolação de variáveis\n",
        "\n",
        "```python\n",
        "# Seção para suas anotações sobre interpolação de variáveis\n",
        "\n",
        "# Variáveis para os exemplos\n",
        "nome = \"Maria\"\n",
        "idade = 30\n",
        "altura = 1.65\n",
        "linguagem = \"Python\"\n",
        "\n",
        "# 1. Formatação com % (estilo antigo)\n",
        "print(\"Nome: %s, Idade: %d, Altura: %.2f\" % (nome, idade, altura))\n",
        "\n",
        "# 2. Método format()\n",
        "print(\"Nome: {}, Idade: {}, Altura: {:.2f}\".format(nome, idade, altura))\n",
        "\n",
        "# Usando índices com format\n",
        "print(\"{0} tem {1} anos e programa em {2}\".format(nome, idade, linguagem))\n",
        "\n",
        "# Usando nomes com format\n",
        "print(\"{nome} tem {idade} anos e programa em {linguagem}\".format(\n",
        "    nome=nome, idade=idade, linguagem=linguagem))\n",
        "\n",
        "# 3. f-strings (Python 3.6+) - Recomendado!\n",
        "print(f\"Nome: {nome}, Idade: {idade}, Altura: {altura:.2f}\")\n",
        "\n",
        "# Expressões dentro de f-strings\n",
        "print(f\"Daqui a 5 anos, {nome} terá {idade + 5} anos\")\n",
        "\n",
        "# Formatação de números com f-strings\n",
        "valor = 1234.56\n",
        "print(f\"Valor formatado: R$ {valor:,.2f}\")\n",
        "\n",
        "# Formatação de datas\n",
        "from datetime import datetime\n",
        "hoje = datetime.now()\n",
        "print(f\"Data atual: {hoje:%d/%m/%Y %H:%M}\")\n",
        "\n",
        "# Alinhamento e preenchimento\n",
        "print(f\"{nome:>10}\")  # Alinhado à direita em 10 espaços\n",
        "print(f\"{nome:<10}\")  # Alinhado à esquerda em 10 espaços\n",
        "print(f\"{nome:^10}\")  # Centralizado em 10 espaços\n",
        "print(f\"{nome:*^10}\")  # Centralizado com preenchimento de *\n",
        "```\n",
        "\n",
        "---"
      ],
      "metadata": {
        "id": "2fuGJvhGDeUt"
      }
    },
    {
      "cell_type": "code",
      "source": [],
      "metadata": {
        "id": "V7t2c3LADekk"
      },
      "execution_count": null,
      "outputs": []
    },
    {
      "cell_type": "markdown",
      "source": [
        "---\n",
        "\n",
        "## ✂️ Aula 3: Fatiamento de string\n",
        "\n",
        "```python\n",
        "# Seção para suas anotações sobre fatiamento de string\n",
        "\n",
        "# String para os exemplos\n",
        "texto = \"Python é uma linguagem de programação\"\n",
        "print(f\"String original: {texto}\")\n",
        "print(f\"Tamanho da string: {len(texto)}\")\n",
        "\n",
        "# Sintaxe do fatiamento: string[início:fim:passo]\n",
        "# Lembrando que o índice começa em 0 e o fim não é incluído\n",
        "\n",
        "# Acessando caracteres individuais\n",
        "print(f\"Primeiro caractere: {texto[0]}\")\n",
        "print(f\"Sexto caractere: {texto[5]}\")\n",
        "print(f\"Último caractere: {texto[-1]}\")\n",
        "print(f\"Penúltimo caractere: {texto[-2]}\")\n",
        "\n",
        "# Fatiamento básico\n",
        "print(f\"Primeiros 6 caracteres: {texto[0:6]}\")\n",
        "print(f\"Primeiros 6 caracteres (forma abreviada): {texto[:6]}\")\n",
        "print(f\"Do caractere 7 até o final: {texto[7:]}\")\n",
        "print(f\"Do caractere 7 ao 12: {texto[7:13]}\")\n",
        "\n",
        "# Fatiamento com passo\n",
        "print(f\"Caracteres alternados: {texto[::2]}\")\n",
        "print(f\"Caracteres alternados a partir do índice 10: {texto[10::2]}\")\n",
        "\n",
        "# Fatiamento com índices negativos\n",
        "print(f\"Últimos 11 caracteres: {texto[-11:]}\")\n",
        "print(f\"Tudo exceto os últimos 11 caracteres: {texto[:-11]}\")\n",
        "\n",
        "# Invertendo uma string\n",
        "print(f\"String invertida: {texto[::-1]}\")\n",
        "\n",
        "# Fatiamento com passo negativo\n",
        "print(f\"Do final para o início pulando de 2 em 2: {texto[::-2]}\")\n",
        "```\n",
        "\n",
        "---"
      ],
      "metadata": {
        "id": "ON0YoJpkDe25"
      }
    },
    {
      "cell_type": "code",
      "source": [],
      "metadata": {
        "id": "p7-JsU8PDfH2"
      },
      "execution_count": null,
      "outputs": []
    },
    {
      "cell_type": "markdown",
      "source": [
        "---\n",
        "\n",
        "## 📄 Aula 4: String múltiplas linhas\n",
        "\n",
        "```python\n",
        "# Seção para suas anotações sobre strings de múltiplas linhas\n",
        "\n",
        "# String de múltiplas linhas com aspas triplas\n",
        "texto_multiplas_linhas = \"\"\"Este é um exemplo de texto\n",
        "que ocupa várias linhas.\n",
        "Podemos escrever parágrafos inteiros assim!\"\"\"\n",
        "\n",
        "print(texto_multiplas_linhas)\n",
        "\n",
        "# String de múltiplas linhas com aspas triplas simples\n",
        "outro_texto = '''Também podemos usar\n",
        "aspas simples triplas\n",
        "para o mesmo efeito.'''\n",
        "\n",
        "print(outro_texto)\n",
        "\n",
        "# Usando \\n para quebra de linha\n",
        "texto_com_quebras = \"Primeira linha\\nSegunda linha\\nTerceira linha\"\n",
        "print(texto_com_quebras)\n",
        "\n",
        "# Usando a barra invertida para continuar uma string em outra linha\n",
        "texto_continuado = \"Esta é uma string muito longa que \\\n",
        "continua na próxima linha do código, \\\n",
        "mas será exibida como uma única linha.\"\n",
        "print(texto_continuado)\n",
        "\n",
        "# Preservando formatação com r-strings (raw strings)\n",
        "caminho_windows = r\"C:\\Users\\Nome\\Documents\\arquivo.txt\"\n",
        "print(caminho_windows)  # Não interpreta \\U, \\N, etc. como escape\n",
        "\n",
        "# Docstrings - documentação de funções e classes\n",
        "def exemplo_funcao():\n",
        "    \"\"\"\n",
        "    Esta é uma docstring.\n",
        "    Ela serve para documentar a função.\n",
        "    Pode ocupar múltiplas linhas.\n",
        "    \"\"\"\n",
        "    return \"Exemplo\"\n",
        "\n",
        "print(exemplo_funcao.__doc__)\n",
        "\n",
        "# Manipulando strings de múltiplas linhas\n",
        "linhas = texto_multiplas_linhas.splitlines()\n",
        "print(linhas)  # Lista com cada linha como elemento\n",
        "\n",
        "# Juntando linhas novamente\n",
        "texto_reunido = \"\\n\".join(linhas)\n",
        "print(texto_reunido)\n",
        "```\n",
        "\n",
        "---"
      ],
      "metadata": {
        "id": "JZGGwlWXDfU-"
      }
    },
    {
      "cell_type": "code",
      "source": [],
      "metadata": {
        "id": "7rXMXQYvDfi6"
      },
      "execution_count": null,
      "outputs": []
    },
    {
      "cell_type": "markdown",
      "source": [
        "---\n",
        "\n",
        "## 📝 Exercícios Práticos\n",
        "\n",
        "```python\n",
        "# Exercício 1: Métodos de String\n",
        "# Crie uma função que conta quantas vogais existem em uma string\n",
        "\n",
        "# Exercício 2: Interpolação de Variáveis\n",
        "# Crie um template de e-mail usando f-strings\n",
        "\n",
        "# Exercício 3: Fatiamento\n",
        "# Implemente uma função que verifica se uma palavra é um palíndromo\n",
        "\n",
        "# Exercício 4: Strings Múltiplas Linhas\n",
        "# Crie um programa que formata um poema preservando sua estrutura\n",
        "\n",
        "# Exercício 5: Combinando Técnicas\n",
        "# Desenvolva uma função que extrai o nome de usuário de um e-mail\n",
        "```\n",
        "\n",
        "---"
      ],
      "metadata": {
        "id": "anJpKBLFDgBR"
      }
    },
    {
      "cell_type": "code",
      "source": [],
      "metadata": {
        "id": "vtkHsOzWDgPN"
      },
      "execution_count": null,
      "outputs": []
    },
    {
      "cell_type": "markdown",
      "source": [
        "---\n",
        "\n",
        "## 🧩 Desafio: Manipulação Avançada de Strings\n",
        "\n",
        "```python\n",
        "# Desafio: Crie um programa que:\n",
        "# 1. Recebe uma frase\n",
        "# 2. Conta a frequência de cada palavra\n",
        "# 3. Identifica a palavra mais comum\n",
        "# 4. Exibe estatísticas sobre a frase (total de caracteres, palavras, etc.)\n",
        "# 5. Formata a saída de forma elegante\n",
        "\n",
        "def analisador_texto(texto):\n",
        "    # Seu código aqui\n",
        "    pass\n",
        "\n",
        "# Teste com este texto:\n",
        "texto_exemplo = \"\"\"Python é uma linguagem de programação de alto nível,\n",
        "interpretada, de script, imperativa, orientada a objetos,\n",
        "funcional, de tipagem dinâmica e forte. Foi lançada por\n",
        "Guido van Rossum em 1991.\"\"\"\n",
        "\n",
        "# analisador_texto(texto_exemplo)\n",
        "```\n",
        "\n",
        "---"
      ],
      "metadata": {
        "id": "RWHnesDxDgn1"
      }
    },
    {
      "cell_type": "code",
      "source": [],
      "metadata": {
        "id": "v67IdQk_Dg6-"
      },
      "execution_count": null,
      "outputs": []
    }
  ]
}