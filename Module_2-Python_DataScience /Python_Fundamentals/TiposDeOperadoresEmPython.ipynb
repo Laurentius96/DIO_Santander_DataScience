{
  "nbformat": 4,
  "nbformat_minor": 0,
  "metadata": {
    "colab": {
      "provenance": [],
      "authorship_tag": "ABX9TyP1nKmCjbLRJZu9mEtM36AS"
    },
    "kernelspec": {
      "name": "python3",
      "display_name": "Python 3"
    },
    "language_info": {
      "name": "python"
    }
  },
  "cells": [
    {
      "cell_type": "markdown",
      "source": [
        "# 🧮 Tipos de Operadores em Python\n",
        "\n",
        "Bem-vindo ao seu guia de estudos em formato Jupyter Notebook! Abaixo está uma estrutura organizada para acompanhar as aulas sobre operadores em Python.\n",
        "\n",
        "### 📋 Índice de Aulas\n",
        "\n",
        "| # | Tópico | Duração |\n",
        "|---|--------|---------|\n",
        "| 1 | Operadores Aritméticos | 16:07 min |\n",
        "| 2 | Operadores de Comparação | 06:48 min |\n",
        "| 3 | Operadores de Atribuição | 09:41 min |\n",
        "| 4 | Operadores Lógicos | 17:43 min |\n",
        "| 5 | Operadores de Identidade | 04:21 min |\n",
        "| 6 | Operadores de Associação | 06:50 min |\n",
        "\n",
        "---\n",
        "\n",
        "## 🔢 Aula 1: Operadores Aritméticos\n",
        "\n",
        "```python\n",
        "# Seção para suas anotações e exemplos sobre Operadores Aritméticos em Python\n",
        "\n",
        "# Adição (+)\n",
        "soma = 10 + 5\n",
        "print(f\"Adição: 10 + 5 = {soma}\")\n",
        "\n",
        "# Subtração (-)\n",
        "subtracao = 10 - 5\n",
        "print(f\"Subtração: 10 - 5 = {subtracao}\")\n",
        "\n",
        "# Multiplicação (*)\n",
        "multiplicacao = 10 * 5\n",
        "print(f\"Multiplicação: 10 * 5 = {multiplicacao}\")\n",
        "\n",
        "# Divisão (/)\n",
        "divisao = 10 / 5\n",
        "print(f\"Divisão: 10 / 5 = {divisao}\")\n",
        "\n",
        "# Divisão inteira (//)\n",
        "divisao_inteira = 10 // 3\n",
        "print(f\"Divisão inteira: 10 // 3 = {divisao_inteira}\")\n",
        "\n",
        "# Módulo (resto da divisão) (%)\n",
        "modulo = 10 % 3\n",
        "print(f\"Módulo: 10 % 3 = {modulo}\")\n",
        "\n",
        "# Exponenciação (**)\n",
        "exponenciacao = 10 ** 2\n",
        "print(f\"Exponenciação: 10 ** 2 = {exponenciacao}\")\n",
        "\n",
        "# Ordem de precedência\n",
        "resultado = 10 + 5 * 2\n",
        "print(f\"10 + 5 * 2 = {resultado}\")\n",
        "\n",
        "resultado_com_parenteses = (10 + 5) * 2\n",
        "print(f\"(10 + 5) * 2 = {resultado_com_parenteses}\")\n",
        "```\n",
        "\n",
        "---\n",
        "\n",
        "\n",
        "## 📚 Notas Adicionais\n",
        "\n",
        "```python\n",
        "# Use esta seção para suas anotações gerais, dúvidas e insights durante o curso\n",
        "\n",
        "\"\"\"\n",
        "Dicas importantes:\n",
        "- Operadores de comparação retornam valores booleanos (True/False)\n",
        "- A ordem de precedência: aritméticos > comparação > lógicos\n",
        "- Use parênteses para controlar a ordem de avaliação das expressões\n",
        "- O operador 'is' compara identidade (mesmo objeto), não valor\n",
        "- Cuidado com a comparação de tipos diferentes\n",
        "\n",
        "Links úteis:\n",
        "- Documentação Python sobre operadores: https://docs.python.org/pt-br/3/library/operator.html\n",
        "- Tutorial interativo: https://www.w3schools.com/python/python_operators.asp\n",
        "\"\"\"\n",
        "```\n",
        "\n",
        "---\n"
      ],
      "metadata": {
        "id": "JyiNWh0Y4YHm"
      }
    },
    {
      "cell_type": "code",
      "execution_count": 1,
      "metadata": {
        "colab": {
          "base_uri": "https://localhost:8080/"
        },
        "id": "60bXyB6o199p",
        "outputId": "34897ee0-bb8b-4d74-83ef-517c148dab67"
      },
      "outputs": [
        {
          "output_type": "stream",
          "name": "stdout",
          "text": [
            "Adição: 10 + 5 = 15\n",
            "Subtração: 10 - 5 = 5\n",
            "Multiplicação: 10 * 5 = 50\n",
            "Divisão: 10 / 5 = 2.0\n",
            "Divisão inteira: 10 // 3 = 3\n",
            "Módulo: 10 % 3 = 1\n",
            "Exponenciação: 10 ** 2 = 100\n",
            "10 + 5 * 2 = 20\n",
            "(10 + 5) * 2 = 30\n"
          ]
        }
      ],
      "source": [
        "# Seção para suas anotações e exemplos sobre Operadores Aritméticos em Python\n",
        "\n",
        "# Adição (+)\n",
        "soma = 10 + 5\n",
        "print(f\"Adição: 10 + 5 = {soma}\")\n",
        "\n",
        "# Subtração (-)\n",
        "subtracao = 10 - 5\n",
        "print(f\"Subtração: 10 - 5 = {subtracao}\")\n",
        "\n",
        "# Multiplicação (*)\n",
        "multiplicacao = 10 * 5\n",
        "print(f\"Multiplicação: 10 * 5 = {multiplicacao}\")\n",
        "\n",
        "# Divisão (/)\n",
        "divisao = 10 / 5\n",
        "print(f\"Divisão: 10 / 5 = {divisao}\")\n",
        "\n",
        "# Divisão inteira (//)\n",
        "divisao_inteira = 10 // 3\n",
        "print(f\"Divisão inteira: 10 // 3 = {divisao_inteira}\")\n",
        "\n",
        "# Módulo (resto da divisão) (%)\n",
        "modulo = 10 % 3\n",
        "print(f\"Módulo: 10 % 3 = {modulo}\")\n",
        "\n",
        "# Exponenciação (**)\n",
        "exponenciacao = 10 ** 2\n",
        "print(f\"Exponenciação: 10 ** 2 = {exponenciacao}\")\n",
        "\n",
        "# Ordem de precedência\n",
        "resultado = 10 + 5 * 2\n",
        "print(f\"10 + 5 * 2 = {resultado}\")\n",
        "\n",
        "resultado_com_parenteses = (10 + 5) * 2\n",
        "print(f\"(10 + 5) * 2 = {resultado_com_parenteses}\")"
      ]
    },
    {
      "cell_type": "markdown",
      "source": [
        "---\n",
        "\n",
        "## 🔍 Aula 2: Operadores de Comparação\n",
        "\n",
        "```python\n",
        "# Seção para suas anotações sobre Operadores de Comparação\n",
        "\n",
        "# Igual a (==)\n",
        "igual = 10 == 10\n",
        "print(f\"10 == 10: {igual}\")\n",
        "\n",
        "# Diferente de (!=)\n",
        "diferente = 10 != 5\n",
        "print(f\"10 != 5: {diferente}\")\n",
        "\n",
        "# Maior que (>)\n",
        "maior = 10 > 5\n",
        "print(f\"10 > 5: {maior}\")\n",
        "\n",
        "# Menor que (<)\n",
        "menor = 10 < 20\n",
        "print(f\"10 < 20: {menor}\")\n",
        "\n",
        "# Maior ou igual a (>=)\n",
        "maior_igual = 10 >= 10\n",
        "print(f\"10 >= 10: {maior_igual}\")\n",
        "\n",
        "# Menor ou igual a (<=)\n",
        "menor_igual = 10 <= 5\n",
        "print(f\"10 <= 5: {menor_igual}\")\n",
        "\n",
        "# Comparações encadeadas\n",
        "encadeada = 1 < 10 < 20\n",
        "print(f\"1 < 10 < 20: {encadeada}\")\n",
        "\n",
        "# Comparação de strings (ordem lexicográfica)\n",
        "comparacao_string = \"apple\" < \"banana\"\n",
        "print(f\"'apple' < 'banana': {comparacao_string}\")\n",
        "\n",
        "# Comparação de tipos diferentes\n",
        "# Nota: Em Python 3, comparar tipos diferentes geralmente causa erro\n",
        "try:\n",
        "    resultado = 10 > \"5\"\n",
        "    print(resultado)\n",
        "except TypeError as e:\n",
        "    print(f\"Erro: {e}\")\n",
        "```\n",
        "\n",
        "---"
      ],
      "metadata": {
        "id": "JHTWVc374pqf"
      }
    },
    {
      "cell_type": "code",
      "source": [
        "# Igual a (==)\n",
        "igual = 10 == 10\n",
        "print(f\"10 == 10: {igual}\")"
      ],
      "metadata": {
        "colab": {
          "base_uri": "https://localhost:8080/"
        },
        "id": "9B2l_bn34qn3",
        "outputId": "6239ef54-99fe-4314-a681-1a1fcd81d486"
      },
      "execution_count": 2,
      "outputs": [
        {
          "output_type": "stream",
          "name": "stdout",
          "text": [
            "10 == 10: True\n"
          ]
        }
      ]
    },
    {
      "cell_type": "code",
      "source": [
        "# Diferente de (!=)\n",
        "diferente = 10 != 5\n",
        "print(f\"10 != 5: {diferente}\")"
      ],
      "metadata": {
        "colab": {
          "base_uri": "https://localhost:8080/"
        },
        "id": "ibk3VP-kHLH3",
        "outputId": "71a2e934-f75b-4cbe-9bf1-94ded42b3f02"
      },
      "execution_count": 5,
      "outputs": [
        {
          "output_type": "stream",
          "name": "stdout",
          "text": [
            "10 != 5: True\n"
          ]
        }
      ]
    },
    {
      "cell_type": "code",
      "source": [
        "# Maior que (>)\n",
        "maior = 10 > 5\n",
        "print(f\"10 > 5: {maior}\")"
      ],
      "metadata": {
        "colab": {
          "base_uri": "https://localhost:8080/"
        },
        "id": "V_R5PwHGHTOH",
        "outputId": "8a24de25-1dcb-4e55-b06e-350e6ac1a6c3"
      },
      "execution_count": 6,
      "outputs": [
        {
          "output_type": "stream",
          "name": "stdout",
          "text": [
            "10 > 5: True\n"
          ]
        }
      ]
    },
    {
      "cell_type": "code",
      "source": [
        "# Menor que (<)\n",
        "menor = 10 < 20\n",
        "print(f\"10 < 20: {menor}\")"
      ],
      "metadata": {
        "colab": {
          "base_uri": "https://localhost:8080/"
        },
        "id": "Gxlm0oFXHTY_",
        "outputId": "5b891153-71aa-451b-98d6-57b8a126046a"
      },
      "execution_count": 7,
      "outputs": [
        {
          "output_type": "stream",
          "name": "stdout",
          "text": [
            "10 < 20: True\n"
          ]
        }
      ]
    },
    {
      "cell_type": "code",
      "source": [
        "# Maior ou igual a (>=)\n",
        "maior_igual = 10 >= 10\n",
        "print(f\"10 >= 10: {maior_igual}\")"
      ],
      "metadata": {
        "colab": {
          "base_uri": "https://localhost:8080/"
        },
        "id": "oYQ4BkB9HTgN",
        "outputId": "9e948847-4050-4cc3-9a3f-f46e77233824"
      },
      "execution_count": 8,
      "outputs": [
        {
          "output_type": "stream",
          "name": "stdout",
          "text": [
            "10 >= 10: True\n"
          ]
        }
      ]
    },
    {
      "cell_type": "code",
      "source": [
        "# Menor ou igual a (<=)\n",
        "menor_igual = 10 <= 5\n",
        "print(f\"10 <= 5: {menor_igual}\")"
      ],
      "metadata": {
        "colab": {
          "base_uri": "https://localhost:8080/"
        },
        "id": "GdbVPF8iHqMx",
        "outputId": "8c3c39ce-12fb-4cc1-c11a-710b87c34cdb"
      },
      "execution_count": 10,
      "outputs": [
        {
          "output_type": "stream",
          "name": "stdout",
          "text": [
            "10 <= 5: False\n"
          ]
        }
      ]
    },
    {
      "cell_type": "code",
      "source": [
        "# Comparações encadeadas\n",
        "encadeada = 1 < 10 < 20\n",
        "print(f\"1 < 10 < 20: {encadeada}\")"
      ],
      "metadata": {
        "colab": {
          "base_uri": "https://localhost:8080/"
        },
        "id": "rktyTixaHTlI",
        "outputId": "c69458b4-5720-4bcf-87fb-01dec9ac408a"
      },
      "execution_count": 9,
      "outputs": [
        {
          "output_type": "stream",
          "name": "stdout",
          "text": [
            "1 < 10 < 20: True\n"
          ]
        }
      ]
    },
    {
      "cell_type": "code",
      "source": [
        "# Comparação de strings (ordem lexicográfica)\n",
        "comparacao_string = \"apple\" < \"banana\"\n",
        "print(f\"'apple' < 'banana': {comparacao_string}\")"
      ],
      "metadata": {
        "colab": {
          "base_uri": "https://localhost:8080/"
        },
        "id": "4ztolP48HlB6",
        "outputId": "4d6b5473-a71b-4557-9288-c8e3e8925b08"
      },
      "execution_count": 12,
      "outputs": [
        {
          "output_type": "stream",
          "name": "stdout",
          "text": [
            "'apple' < 'banana': True\n"
          ]
        }
      ]
    },
    {
      "cell_type": "code",
      "source": [
        "# Comparação de tipos diferentes\n",
        "# Nota: Em Python 3, comparar tipos diferentes geralmente causa erro\n",
        "try:\n",
        "    resultado = 10 > \"5\"\n",
        "    print(resultado)\n",
        "except TypeError as e:\n",
        "    print(f\"Erro: {e}\")"
      ],
      "metadata": {
        "colab": {
          "base_uri": "https://localhost:8080/"
        },
        "id": "cwFv-QD4HlX1",
        "outputId": "36f3c8cf-43cb-4c4a-a176-e10db91751d0"
      },
      "execution_count": 13,
      "outputs": [
        {
          "output_type": "stream",
          "name": "stdout",
          "text": [
            "Erro: '>' not supported between instances of 'int' and 'str'\n"
          ]
        }
      ]
    },
    {
      "cell_type": "markdown",
      "source": [
        "---\n",
        "\n",
        "## ✍️ Aula 3: Operadores de Atribuição\n",
        "\n",
        "```python\n",
        "# Seção para suas anotações sobre Operadores de Atribuição\n",
        "\n",
        "# Atribuição simples (=)\n",
        "x = 10\n",
        "print(f\"x = 10: {x}\")\n",
        "\n",
        "# Atribuição com adição (+=)\n",
        "x = 10\n",
        "x += 5  # Equivalente a: x = x + 5\n",
        "print(f\"x += 5: {x}\")\n",
        "\n",
        "# Atribuição com subtração (-=)\n",
        "x = 10\n",
        "x -= 3  # Equivalente a: x = x - 3\n",
        "print(f\"x -= 3: {x}\")\n",
        "\n",
        "# Atribuição com multiplicação (*=)\n",
        "x = 10\n",
        "x *= 2  # Equivalente a: x = x * 2\n",
        "print(f\"x *= 2: {x}\")\n",
        "\n",
        "# Atribuição com divisão (/=)\n",
        "x = 10\n",
        "x /= 2  # Equivalente a: x = x / 2\n",
        "print(f\"x /= 2: {x}\")\n",
        "\n",
        "# Atribuição com divisão inteira (//=)\n",
        "x = 10\n",
        "x //= 3  # Equivalente a: x = x // 3\n",
        "print(f\"x //= 3: {x}\")\n",
        "\n",
        "# Atribuição com módulo (%=)\n",
        "x = 10\n",
        "x %= 3  # Equivalente a: x = x % 3\n",
        "print(f\"x %= 3: {x}\")\n",
        "\n",
        "# Atribuição com exponenciação (**=)\n",
        "x = 10\n",
        "x **= 2  # Equivalente a: x = x ** 2\n",
        "print(f\"x **= 2: {x}\")\n",
        "\n",
        "# Atribuição múltipla\n",
        "a, b, c = 1, 2, 3\n",
        "print(f\"a = {a}, b = {b}, c = {c}\")\n",
        "\n",
        "# Troca de valores sem variável temporária\n",
        "a, b = 10, 20\n",
        "a, b = b, a\n",
        "print(f\"Após troca: a = {a}, b = {b}\")\n",
        "```\n",
        "\n",
        "---"
      ],
      "metadata": {
        "id": "NTKK1Crh4rEB"
      }
    },
    {
      "cell_type": "code",
      "source": [],
      "metadata": {
        "id": "azXc4wm34rd4"
      },
      "execution_count": null,
      "outputs": []
    },
    {
      "cell_type": "markdown",
      "source": [
        "---\n",
        "\n",
        "## 🧠 Aula 4: Operadores Lógicos\n",
        "\n",
        "```python\n",
        "# Seção para suas anotações sobre Operadores Lógicos\n",
        "\n",
        "# Operador AND (e)\n",
        "verdadeiro_e_verdadeiro = True and True\n",
        "print(f\"True and True: {verdadeiro_e_verdadeiro}\")\n",
        "\n",
        "verdadeiro_e_falso = True and False\n",
        "print(f\"True and False: {verdadeiro_e_falso}\")\n",
        "\n",
        "# Operador OR (ou)\n",
        "verdadeiro_ou_falso = True or False\n",
        "print(f\"True or False: {verdadeiro_ou_falso}\")\n",
        "\n",
        "falso_ou_falso = False or False\n",
        "print(f\"False or False: {falso_ou_falso}\")\n",
        "\n",
        "# Operador NOT (não)\n",
        "nao_verdadeiro = not True\n",
        "print(f\"not True: {nao_verdadeiro}\")\n",
        "\n",
        "nao_falso = not False\n",
        "print(f\"not False: {nao_falso}\")\n",
        "\n",
        "# Combinação de operadores lógicos\n",
        "resultado = (True and False) or (True and True)\n",
        "print(f\"(True and False) or (True and True): {resultado}\")\n",
        "\n",
        "# Avaliação de curto-circuito\n",
        "# Com AND, se o primeiro valor for False, o segundo nem é avaliado\n",
        "x = False and print(\"Este texto não será impresso\")\n",
        "\n",
        "# Com OR, se o primeiro valor for True, o segundo nem é avaliado\n",
        "y = True or print(\"Este texto não será impresso\")\n",
        "\n",
        "# Utilizando operadores lógicos com valores não booleanos\n",
        "# Em Python, valores como 0, '', [], {}, None são considerados False\n",
        "# Qualquer outro valor é considerado True\n",
        "\n",
        "valor = 10 and 20  # Retorna 20\n",
        "print(f\"10 and 20: {valor}\")\n",
        "\n",
        "valor = 0 and 20  # Retorna 0\n",
        "print(f\"0 and 20: {valor}\")\n",
        "\n",
        "valor = 10 or 20  # Retorna 10\n",
        "print(f\"10 or 20: {valor}\")\n",
        "\n",
        "valor = 0 or 20  # Retorna 20\n",
        "print(f\"0 or 20: {valor}\")\n",
        "```\n",
        "\n",
        "---"
      ],
      "metadata": {
        "id": "hEsyKQdT4r3-"
      }
    },
    {
      "cell_type": "code",
      "source": [],
      "metadata": {
        "id": "_7O1Xc9Y4sF7"
      },
      "execution_count": null,
      "outputs": []
    },
    {
      "cell_type": "markdown",
      "source": [
        "---\n",
        "\n",
        "## 🆔 Aula 5: Operadores de Identidade\n",
        "\n",
        "```python\n",
        "# Seção para suas anotações sobre Operadores de Identidade\n",
        "\n",
        "# Operador is (é)\n",
        "# Verifica se duas variáveis apontam para o mesmo objeto na memória\n",
        "\n",
        "a = [1, 2, 3]\n",
        "b = [1, 2, 3]\n",
        "c = a\n",
        "\n",
        "# Mesmo conteúdo, mas objetos diferentes na memória\n",
        "print(f\"a == b: {a == b}\")  # True (conteúdo igual)\n",
        "print(f\"a is b: {a is b}\")  # False (objetos diferentes)\n",
        "\n",
        "# Mesmo objeto na memória\n",
        "print(f\"a is c: {a is c}\")  # True (mesmo objeto)\n",
        "\n",
        "# Operador is not (não é)\n",
        "print(f\"a is not b: {a is not b}\")  # True\n",
        "print(f\"a is not c: {a is not c}\")  # False\n",
        "\n",
        "# Casos especiais com números pequenos e strings\n",
        "# Python otimiza alguns objetos imutáveis comuns\n",
        "x = 5\n",
        "y = 5\n",
        "print(f\"x is y: {x is y}\")  # True para números pequenos (-5 a 256)\n",
        "\n",
        "# Strings pequenas também são otimizadas\n",
        "s1 = \"hello\"\n",
        "s2 = \"hello\"\n",
        "print(f\"s1 is s2: {s1 is s2}\")  # True\n",
        "\n",
        "# Mas para objetos maiores, isso não acontece\n",
        "big_num1 = 1000\n",
        "big_num2 = 1000\n",
        "print(f\"big_num1 is big_num2: {big_num1 is big_num2}\")  # Pode ser False\n",
        "\n",
        "# Uso comum com None\n",
        "valor = None\n",
        "print(f\"valor is None: {valor is None}\")  # True\n",
        "```\n",
        "\n",
        "---"
      ],
      "metadata": {
        "id": "F8ud979V4sQ3"
      }
    },
    {
      "cell_type": "code",
      "source": [],
      "metadata": {
        "id": "_zQp0vo94sh0"
      },
      "execution_count": null,
      "outputs": []
    },
    {
      "cell_type": "markdown",
      "source": [
        "---\n",
        "\n",
        "## 🔗 Aula 6: Operadores de Associação\n",
        "\n",
        "```python\n",
        "# Seção para suas anotações sobre Operadores de Associação\n",
        "\n",
        "# Operador in (em)\n",
        "# Verifica se um elemento está presente em uma sequência\n",
        "\n",
        "# Lista\n",
        "frutas = [\"maçã\", \"banana\", \"laranja\"]\n",
        "tem_maca = \"maçã\" in frutas\n",
        "print(f\"'maçã' in frutas: {tem_maca}\")  # True\n",
        "\n",
        "tem_uva = \"uva\" in frutas\n",
        "print(f\"'uva' in frutas: {tem_uva}\")  # False\n",
        "\n",
        "# String\n",
        "texto = \"Python é incrível\"\n",
        "tem_python = \"Python\" in texto\n",
        "print(f\"'Python' in texto: {tem_python}\")  # True\n",
        "\n",
        "# Dicionário (verifica apenas as chaves, não os valores)\n",
        "pessoa = {\"nome\": \"João\", \"idade\": 30}\n",
        "tem_nome = \"nome\" in pessoa\n",
        "print(f\"'nome' in pessoa: {tem_nome}\")  # True\n",
        "\n",
        "tem_joao = \"João\" in pessoa\n",
        "print(f\"'João' in pessoa: {tem_joao}\")  # False\n",
        "\n",
        "# Para verificar valores em um dicionário\n",
        "tem_joao_valor = \"João\" in pessoa.values()\n",
        "print(f\"'João' in pessoa.values(): {tem_joao_valor}\")  # True\n",
        "\n",
        "# Operador not in (não em)\n",
        "nao_tem_uva = \"uva\" not in frutas\n",
        "print(f\"'uva' not in frutas: {nao_tem_uva}\")  # True\n",
        "\n",
        "# Tupla\n",
        "numeros = (1, 2, 3, 4, 5)\n",
        "tem_tres = 3 in numeros\n",
        "print(f\"3 in numeros: {tem_tres}\")  # True\n",
        "\n",
        "# Conjunto (set)\n",
        "cores = {\"vermelho\", \"verde\", \"azul\"}\n",
        "tem_verde = \"verde\" in cores\n",
        "print(f\"'verde' in cores: {tem_verde}\")  # True\n",
        "```\n",
        "\n",
        "---"
      ],
      "metadata": {
        "id": "jOLgB3L_4uGL"
      }
    },
    {
      "cell_type": "code",
      "source": [],
      "metadata": {
        "id": "x1wC7BR_4ujc"
      },
      "execution_count": null,
      "outputs": []
    },
    {
      "cell_type": "markdown",
      "source": [
        "---\n",
        "\n",
        "## 🔄 Combinando Operadores\n",
        "\n",
        "```python\n",
        "# Seção para explorar combinações de diferentes tipos de operadores\n",
        "\n",
        "# Exemplo 1: Verificação de intervalo\n",
        "idade = 25\n",
        "esta_na_faixa = 18 <= idade <= 65\n",
        "print(f\"Idade {idade} está entre 18 e 65: {esta_na_faixa}\")\n",
        "\n",
        "# Exemplo 2: Operadores aritméticos + atribuição + comparação\n",
        "pontos = 100\n",
        "nivel = 5\n",
        "pontos += nivel * 10\n",
        "tem_bonus = pontos > 150\n",
        "print(f\"Pontos: {pontos}, Tem bônus: {tem_bonus}\")\n",
        "\n",
        "# Exemplo 3: Operadores lógicos + associação\n",
        "frutas = [\"maçã\", \"banana\", \"laranja\"]\n",
        "fruta_procurada = \"manga\"\n",
        "resultado = fruta_procurada in frutas or fruta_procurada.startswith(\"m\")\n",
        "print(f\"Fruta '{fruta_procurada}' está na lista ou começa com 'm': {resultado}\")\n",
        "\n",
        "# Exemplo 4: Operador ternário (condicional)\n",
        "idade = 17\n",
        "status = \"Maior de idade\" if idade >= 18 else \"Menor de idade\"\n",
        "print(f\"Status: {status}\")\n",
        "```\n",
        "\n",
        "---\n"
      ],
      "metadata": {
        "id": "2AzJf10Z4yyr"
      }
    },
    {
      "cell_type": "code",
      "source": [],
      "metadata": {
        "id": "_MlDLUGX4zEL"
      },
      "execution_count": null,
      "outputs": []
    },
    {
      "cell_type": "markdown",
      "source": [
        "---\n",
        "\n",
        "## 📝 Exercícios Práticos\n",
        "\n",
        "```python\n",
        "# Exercício 1: Operadores Aritméticos\n",
        "# Calcule a área e o perímetro de um retângulo com base 5 e altura 3\n",
        "\n",
        "# Exercício 2: Operadores de Comparação\n",
        "# Crie um programa que verifica se um número é par e está entre 10 e 50\n",
        "\n",
        "# Exercício 3: Operadores de Atribuição\n",
        "# Crie um contador que incrementa, dobra seu valor e depois subtrai 5\n",
        "\n",
        "# Exercício 4: Operadores Lógicos\n",
        "# Implemente uma lógica que verifica se um usuário tem acesso com base em idade e nível de permissão\n",
        "\n",
        "# Exercício 5: Operadores de Identidade\n",
        "# Demonstre a diferença entre == e is com listas e números\n",
        "\n",
        "# Exercício 6: Operadores de Associação\n",
        "# Crie um programa que verifica se um elemento está em diferentes tipos de coleções\n",
        "```\n",
        "\n",
        "---"
      ],
      "metadata": {
        "id": "bxSbSbwa4_ce"
      }
    },
    {
      "cell_type": "code",
      "source": [],
      "metadata": {
        "id": "E17seExP4_3j"
      },
      "execution_count": null,
      "outputs": []
    }
  ]
}