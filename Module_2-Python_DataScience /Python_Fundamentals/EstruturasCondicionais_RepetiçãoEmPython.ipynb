{
  "nbformat": 4,
  "nbformat_minor": 0,
  "metadata": {
    "colab": {
      "provenance": [],
      "authorship_tag": "ABX9TyPRM93tGAJ+AHlH7lDkdkI4"
    },
    "kernelspec": {
      "name": "python3",
      "display_name": "Python 3"
    },
    "language_info": {
      "name": "python"
    }
  },
  "cells": [
    {
      "cell_type": "markdown",
      "source": [
        "# 🔍 Estruturas Condicionais e de Repetição\n",
        "\n",
        "Bem-vindo ao seu guia de estudos em formato Jupyter Notebook! Abaixo está uma estrutura organizada para acompanhar as aulas sobre estruturas condicionais e de repetição em Python.\n",
        "\n",
        "### 📋 Índice de Aulas\n",
        "\n",
        "| # | Tópico | Duração |\n",
        "|---|--------|---------|\n",
        "| 1 | Indentação e Blocos | 16:09 min |\n",
        "| 2 | Estruturas Condicionais | 27:40 min |\n",
        "| 3 | Estruturas de Repetição | 32:28 min |\n",
        "\n",
        "\n",
        "<br/>\n",
        "\n",
        "---\n",
        "\n",
        "## 🔣 Aula 1: Indentação e Blocos\n",
        "\n",
        "```python\n",
        "# Seção para suas anotações e exemplos sobre Indentação e Blocos em Python\n",
        "\n",
        "# Exemplo de bloco com indentação correta\n",
        "def saudacao(nome):\n",
        "    print(f\"Olá, {nome}!\")\n",
        "    print(\"Bem-vindo ao Python!\")\n",
        "\n",
        "saudacao(\"João\")\n",
        "\n",
        "# Exemplo de bloco com indentação incorreta (causará erro)\n",
        "def soma(a, b):\n",
        "print(f\"A soma de {a} e {b} é: {a + b}\")\n",
        "\n",
        "soma(5, 3)\n",
        "```\n",
        "\n",
        "---\n",
        "\n",
        "## 📚 Notas Adicionais\n",
        "\n",
        "```python\n",
        "# Use esta seção para suas anotações gerais, dúvidas e insights durante o curso\n",
        "\n",
        "\"\"\"\n",
        "Dicas importantes:\n",
        "- Indentação é fundamental em Python, use 4 espaços para cada nível\n",
        "- Evite aninhar muitas condicionais, prefira elif ou lógica booleana\n",
        "- Laços for e while são úteis para diferentes tipos de iteração\n",
        "- Compreensão de listas é uma forma concisa de criar novas listas\n",
        "- Combine estruturas condicionais e de repetição para resolver problemas complexos\n",
        "\n",
        "Links úteis:\n",
        "- Documentação Python sobre estruturas de controle: https://docs.python.org/pt-br/3/tutorial/controlflow.html\n",
        "- Tutorial interativo: https://www.w3schools.com/python/python_conditions.asp\n",
        "- Tutorial interativo: https://www.w3schools.com/python/python_loops.asp\n",
        "\"\"\"\n",
        "```\n",
        "\n",
        "---\n"
      ],
      "metadata": {
        "id": "gKq2J6x1ts5M"
      }
    },
    {
      "cell_type": "code",
      "execution_count": 2,
      "metadata": {
        "colab": {
          "base_uri": "https://localhost:8080/"
        },
        "id": "9_u-6_FdtDaF",
        "outputId": "d57bd5c1-beb1-440a-d672-66965ca57b76"
      },
      "outputs": [
        {
          "output_type": "stream",
          "name": "stdout",
          "text": [
            "Olá, João!\n",
            "Bem-vindo ao Python!\n"
          ]
        }
      ],
      "source": [
        "# Exemplo de bloco com indentação correta\n",
        "def saudacao(nome):\n",
        "    print(f\"Olá, {nome}!\")\n",
        "    print(\"Bem-vindo ao Python!\")\n",
        "\n",
        "saudacao(\"João\")"
      ]
    },
    {
      "cell_type": "code",
      "source": [
        "# Exemplo de bloco com indentação incorreta (causará erro)\n",
        "def soma(a, b):\n",
        "print(f\"A soma de {a} e {b} é: {a + b}\")\n",
        "\n",
        "soma(5, 3)"
      ],
      "metadata": {
        "colab": {
          "base_uri": "https://localhost:8080/",
          "height": 106
        },
        "id": "qOtPw4e5uoq1",
        "outputId": "4db397dc-b117-4759-c1f3-8005a4845cda"
      },
      "execution_count": 3,
      "outputs": [
        {
          "output_type": "error",
          "ename": "IndentationError",
          "evalue": "expected an indented block after function definition on line 2 (<ipython-input-3-1b5f51e69063>, line 3)",
          "traceback": [
            "\u001b[0;36m  File \u001b[0;32m\"<ipython-input-3-1b5f51e69063>\"\u001b[0;36m, line \u001b[0;32m3\u001b[0m\n\u001b[0;31m    print(f\"A soma de {a} e {b} é: {a + b}\")\u001b[0m\n\u001b[0m    ^\u001b[0m\n\u001b[0;31mIndentationError\u001b[0m\u001b[0;31m:\u001b[0m expected an indented block after function definition on line 2\n"
          ]
        }
      ]
    },
    {
      "cell_type": "markdown",
      "source": [
        "---\n",
        "\n",
        "## 📋 Aula 2: Estruturas Condicionais\n",
        "\n",
        "```python\n",
        "# Seção para suas anotações sobre Estruturas Condicionais\n",
        "\n",
        "# Declaração if-else\n",
        "idade = 18\n",
        "if idade >= 18:\n",
        "    print(\"Você é maior de idade.\")\n",
        "else:\n",
        "    print(\"Você é menor de idade.\")\n",
        "\n",
        "# Declaração if-elif-else\n",
        "nota = 85\n",
        "if nota >= 90:\n",
        "    print(\"Conceito A\")\n",
        "elif nota >= 80:\n",
        "    print(\"Conceito B\")\n",
        "elif nota >= 70:\n",
        "    print(\"Conceito C\")\n",
        "else:\n",
        "    print(\"Conceito D\")\n",
        "\n",
        "# Operador ternário\n",
        "# (valor_verdadeiro if condição else valor_falso)\n",
        "resultado = \"Aprovado\" if nota >= 70 else \"Reprovado\"\n",
        "print(f\"O aluno está {resultado}.\")\n",
        "\n",
        "# Aninhamento de condicionais\n",
        "temperatura = 25\n",
        "if temperatura > 0:\n",
        "    if temperatura > 30:\n",
        "        print(\"Está muito quente!\")\n",
        "    else:\n",
        "        print(\"A temperatura está agradável.\")\n",
        "else:\n",
        "    print(\"Está congelando!\")\n",
        "\n",
        "# Declaração match (disponível a partir do Python 3.10)\n",
        "dia_da_semana = 3\n",
        "match dia_da_semana:\n",
        "    case 1:\n",
        "        print(\"Segunda-feira\")\n",
        "    case 2:\n",
        "        print(\"Terça-feira\")\n",
        "    case 3:\n",
        "        print(\"Quarta-feira\")\n",
        "    case _:\n",
        "        print(\"Outro dia da semana\")\n",
        "```\n",
        "\n",
        "---"
      ],
      "metadata": {
        "id": "lHYLoL_DtujI"
      }
    },
    {
      "cell_type": "code",
      "source": [],
      "metadata": {
        "id": "Wm-Ih5AVtuwq"
      },
      "execution_count": null,
      "outputs": []
    },
    {
      "cell_type": "markdown",
      "source": [
        "---\n",
        "\n",
        "## 🔁 Aula 3: Estruturas de Repetição\n",
        "\n",
        "```python\n",
        "# Seção para suas anotações sobre Estruturas de Repetição\n",
        "\n",
        "# Laço for\n",
        "frutas = [\"maçã\", \"banana\", \"laranja\"]\n",
        "for fruta in frutas:\n",
        "    print(f\"Eu gosto de {fruta}\")\n",
        "\n",
        "# Laço while\n",
        "contador = 0\n",
        "while contador < 5:\n",
        "    print(f\"Contagem: {contador}\")\n",
        "    contador += 1\n",
        "\n",
        "# Declaração break\n",
        "numeros = [1, 2, 3, 4, 5]\n",
        "for num in numeros:\n",
        "    if num == 3:\n",
        "        break\n",
        "    print(num)\n",
        "\n",
        "# Declaração continue\n",
        "for num in numeros:\n",
        "    if num == 3:\n",
        "        continue\n",
        "    print(num)\n",
        "\n",
        "# Loops aninhados\n",
        "for i in range(3):\n",
        "    for j in range(3):\n",
        "        print(f\"({i}, {j})\")\n",
        "\n",
        "# Compreensão de listas\n",
        "quadrados = [x**2 for x in range(1, 6)]\n",
        "print(quadrados)  # [1, 4, 9, 16, 25]\n",
        "```\n",
        "\n",
        "---"
      ],
      "metadata": {
        "id": "KshiA4-ytu8-"
      }
    },
    {
      "cell_type": "code",
      "source": [],
      "metadata": {
        "id": "ff_sV8YZtvTz"
      },
      "execution_count": null,
      "outputs": []
    },
    {
      "cell_type": "markdown",
      "source": [
        "---\n",
        "\n",
        "## 📝 Exercícios Práticos\n",
        "\n",
        "```python\n",
        "# Exercício 1: Estruturas Condicionais\n",
        "# Crie um programa que verifica se um número é par ou ímpar\n",
        "\n",
        "# Exercício 2: Estruturas Condicionais Aninhadas\n",
        "# Implemente um programa que calcula o IMC e classifica o resultado\n",
        "\n",
        "# Exercício 3: Estruturas de Repetição\n",
        "# Escreva um programa que imprime a tabuada de um número informado\n",
        "\n",
        "# Exercício 4: Compreensão de Listas\n",
        "# Crie uma lista com os cubos dos números de 1 a 10\n",
        "\n",
        "# Exercício 5: Combinando Estruturas\n",
        "# Desenvolva um programa que verifica se uma string é um palíndromo\n",
        "```\n",
        "\n",
        "---"
      ],
      "metadata": {
        "id": "N9LpzaoMtv2z"
      }
    }
  ]
}