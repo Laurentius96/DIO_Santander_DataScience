{
  "nbformat": 4,
  "nbformat_minor": 0,
  "metadata": {
    "colab": {
      "provenance": [],
      "authorship_tag": "ABX9TyP7w6qDHjXDpItm8jhm+X/H"
    },
    "kernelspec": {
      "name": "python3",
      "display_name": "Python 3"
    },
    "language_info": {
      "name": "python"
    }
  },
  "cells": [
    {
      "cell_type": "markdown",
      "source": [
        "# 📋 Trabalhando com Listas em Python\n",
        "\n",
        "Bem-vindo ao seu guia de estudos em formato Jupyter Notebook! Abaixo está uma estrutura organizada para acompanhar as aulas sobre listas em Python.\n",
        "\n",
        "### 📚 Índice de Aulas\n",
        "\n",
        "| # | Tópico | Duração |\n",
        "|---|--------|---------|\n",
        "| 1 | Introdução | 08:25 min |\n",
        "| 2 | Listas: Criação e acesso aos dados | 24:35 min |\n",
        "| 3 | Métodos da classe list | 19:50 min |\n",
        "\n",
        "\n",
        "<br/>\n",
        "\n",
        "---\n",
        "\n",
        "## 🚀 Aula 1: Introdução\n",
        "\n",
        "```python\n",
        "# Seção para suas anotações sobre a introdução às listas em Python\n",
        "\n",
        "\"\"\"\n",
        "O que são listas em Python:\n",
        "- Estruturas de dados que armazenam coleções ordenadas de itens\n",
        "- Podem conter elementos de tipos diferentes\n",
        "- São mutáveis (podem ser modificadas após a criação)\n",
        "- São indexadas (os elementos podem ser acessados por índices)\n",
        "- São dinâmicas (podem crescer ou diminuir de tamanho)\n",
        "\"\"\"\n",
        "\n",
        "# Exemplo básico de lista\n",
        "minha_primeira_lista = [1, 2, 3, 4, 5]\n",
        "print(minha_primeira_lista)\n",
        "\n",
        "# Lista com diferentes tipos de dados\n",
        "lista_mista = [1, \"Python\", 3.14, True, [10, 20]]\n",
        "print(lista_mista)\n",
        "\n",
        "# Verificando o tipo\n",
        "print(type(minha_primeira_lista))  # <class 'list'>\n",
        "\n",
        "# Tamanho da lista\n",
        "print(len(minha_primeira_lista))  # 5\n",
        "\n",
        "# Comparação com outras estruturas de dados\n",
        "# Tuplas (imutáveis)\n",
        "minha_tupla = (1, 2, 3)\n",
        "\n",
        "# Dicionários (pares chave-valor)\n",
        "meu_dicionario = {\"nome\": \"Python\", \"ano\": 1991}\n",
        "\n",
        "# Conjuntos (coleções não ordenadas sem elementos duplicados)\n",
        "meu_conjunto = {1, 2, 3, 3, 4}  # O 3 duplicado será removido\n",
        "\n",
        "print(f\"Lista: {minha_primeira_lista}\")\n",
        "print(f\"Tupla: {minha_tupla}\")\n",
        "print(f\"Dicionário: {meu_dicionario}\")\n",
        "print(f\"Conjunto: {meu_conjunto}\")\n",
        "```\n",
        "\n",
        "<br/>\n",
        "\n",
        "---\n",
        "\n",
        "## 📚 Notas Adicionais\n",
        "\n",
        "```python\n",
        "# Use esta seção para suas anotações gerais, dúvidas e insights durante o curso\n",
        "\n",
        "\"\"\"\n",
        "Dicas importantes:\n",
        "- Listas são mutáveis, o que significa que podem ser modificadas após a criação\n",
        "- Tenha cuidado ao atribuir uma lista a outra variável, pois isso cria uma referência, não uma cópia\n",
        "- Use list.copy() ou [:] para criar cópias independentes\n",
        "- List comprehensions são uma forma elegante e eficiente de criar listas\n",
        "- Para operações que envolvem muitas inserções/remoções no início da lista, considere usar collections.deque\n",
        "- Para grandes conjuntos de dados numéricos, considere usar numpy.array para melhor desempenho\n",
        "\n",
        "Casos de uso comuns:\n",
        "- Armazenar coleções de itens relacionados\n",
        "- Implementar pilhas e filas\n",
        "- Representar dados tabulares (com listas aninhadas)\n",
        "- Processar dados em lote\n",
        "- Manter históricos ou registros de eventos\n",
        "\n",
        "Links úteis:\n",
        "- Documentação oficial: https://docs.python.org/pt-br/3/tutorial/datastructures.html\n",
        "- Tutorial interativo: https://www.w3schools.com/python/python_lists.asp\n",
        "\"\"\"\n",
        "```\n",
        "\n",
        "---"
      ],
      "metadata": {
        "id": "pXanCz_8y5y4"
      }
    },
    {
      "cell_type": "code",
      "source": [
        "# Exemplo básico de lista\n",
        "minha_primeira_lista = [1, 2, 3, 4, 5]\n",
        "print(minha_primeira_lista)\n",
        "\n",
        "# Lista com diferentes tipos de dados\n",
        "lista_mista = [1, \"Python\", 3.14, True, [10, 20]]\n",
        "print(lista_mista)\n",
        "\n",
        "# Verificando o tipo\n",
        "print(type(minha_primeira_lista))  # <class 'list'>\n",
        "\n",
        "# Tamanho da lista\n",
        "print(len(minha_primeira_lista))  # 5\n",
        "\n",
        "# Comparação com outras estruturas de dados\n",
        "# Tuplas (imutáveis)\n",
        "minha_tupla = (1, 2, 3)\n",
        "\n",
        "# Dicionários (pares chave-valor)\n",
        "meu_dicionario = {\"nome\": \"Python\", \"ano\": 1991}\n",
        "\n",
        "# Conjuntos (coleções não ordenadas sem elementos duplicados)\n",
        "meu_conjunto = {1, 2, 3, 3, 4}  # O 3 duplicado será removido\n",
        "\n",
        "print(f\"Lista: {minha_primeira_lista}\")\n",
        "print(f\"Tupla: {minha_tupla}\")\n",
        "print(f\"Dicionário: {meu_dicionario}\")\n",
        "print(f\"Conjunto: {meu_conjunto}\")"
      ],
      "metadata": {
        "colab": {
          "base_uri": "https://localhost:8080/"
        },
        "id": "z_F3hkr4zjXV",
        "outputId": "20886c3b-8027-4829-f8b1-9c573efa5e97"
      },
      "execution_count": null,
      "outputs": [
        {
          "output_type": "stream",
          "name": "stdout",
          "text": [
            "[1, 2, 3, 4, 5]\n",
            "[1, 'Python', 3.14, True, [10, 20]]\n",
            "<class 'list'>\n",
            "5\n",
            "Lista: [1, 2, 3, 4, 5]\n",
            "Tupla: (1, 2, 3)\n",
            "Dicionário: {'nome': 'Python', 'ano': 1991}\n",
            "Conjunto: {1, 2, 3, 4}\n"
          ]
        }
      ]
    },
    {
      "cell_type": "markdown",
      "source": [
        "---\n",
        "\n",
        "## 🔍 Aula 2: Listas: Criação e acesso aos dados\n",
        "\n",
        "```python\n",
        "# Seção para suas anotações sobre criação e acesso aos dados em listas\n",
        "\n",
        "# Criando listas\n",
        "lista_vazia = []  # Lista vazia\n",
        "numeros = [1, 2, 3, 4, 5]  # Lista de números\n",
        "frutas = [\"maçã\", \"banana\", \"laranja\"]  # Lista de strings\n",
        "mista = [1, \"dois\", 3.0, True]  # Lista com tipos diferentes\n",
        "\n",
        "# Criando listas com a função list()\n",
        "lista_de_string = list(\"Python\")  # Converte string para lista de caracteres\n",
        "print(lista_de_string)  # ['P', 'y', 't', 'h', 'o', 'n']\n",
        "\n",
        "lista_de_range = list(range(1, 6))  # Converte range para lista\n",
        "print(lista_de_range)  # [1, 2, 3, 4, 5]\n",
        "\n",
        "# Acessando elementos por índice (índices começam em 0)\n",
        "print(frutas[0])  # Primeiro elemento: \"maçã\"\n",
        "print(frutas[1])  # Segundo elemento: \"banana\"\n",
        "print(frutas[2])  # Terceiro elemento: \"laranja\"\n",
        "\n",
        "# Índices negativos (contam a partir do final)\n",
        "print(frutas[-1])  # Último elemento: \"laranja\"\n",
        "print(frutas[-2])  # Penúltimo elemento: \"banana\"\n",
        "\n",
        "# Verificando se um elemento está na lista\n",
        "print(\"maçã\" in frutas)  # True\n",
        "print(\"uva\" in frutas)   # False\n",
        "\n",
        "# Fatiamento de listas (slicing)\n",
        "# lista[início:fim:passo] - o fim não é incluído\n",
        "numeros = [0, 1, 2, 3, 4, 5, 6, 7, 8, 9]\n",
        "\n",
        "print(numeros[2:5])    # [2, 3, 4]\n",
        "print(numeros[:3])     # [0, 1, 2]\n",
        "print(numeros[7:])     # [7, 8, 9]\n",
        "print(numeros[::2])    # [0, 2, 4, 6, 8]\n",
        "print(numeros[::-1])   # [9, 8, 7, 6, 5, 4, 3, 2, 1, 0] (invertida)\n",
        "\n",
        "# Listas aninhadas (matrizes)\n",
        "matriz = [\n",
        "    [1, 2, 3],\n",
        "    [4, 5, 6],\n",
        "    [7, 8, 9]\n",
        "]\n",
        "\n",
        "# Acessando elementos em listas aninhadas\n",
        "print(matriz[0][0])  # 1 (primeira linha, primeira coluna)\n",
        "print(matriz[1][1])  # 5 (segunda linha, segunda coluna)\n",
        "print(matriz[2][2])  # 9 (terceira linha, terceira coluna)\n",
        "\n",
        "# Percorrendo uma lista com um loop for\n",
        "for fruta in frutas:\n",
        "    print(f\"Eu gosto de {fruta}\")\n",
        "\n",
        "# Percorrendo com índices usando enumerate\n",
        "for indice, fruta in enumerate(frutas):\n",
        "    print(f\"Índice {indice}: {fruta}\")\n",
        "    \n",
        "\n",
        "### Adicional:\n",
        "\n",
        "# Criando listas a partir de outras estruturas de dados\n",
        "numeros_string = \"12345\"\n",
        "lista_numeros = list(numeros_string)\n",
        "print(lista_numeros)  # ['1', '2', '3', '4', '5']\n",
        "\n",
        "# Criando listas com valores padrão\n",
        "lista_zeros = [0] * 5\n",
        "print(lista_zeros)  # [0, 0, 0, 0, 0]\n",
        "\n",
        "lista_letras = [\"a\"] * 3\n",
        "print(lista_letras)  # ['a', 'a', 'a']\n",
        "\n",
        "# Acessando elementos de listas aninhadas\n",
        "matriz = [[1, 2, 3], [4, 5, 6], [7, 8, 9]]\n",
        "print(matriz[1][1])  # Acessa o elemento da segunda linha, segunda coluna (5)\n",
        "\n",
        "# Iterando sobre listas aninhadas\n",
        "for linha in matriz:\n",
        "    print(linha)\n",
        "\n",
        "for i in range(len(matriz)):\n",
        "    for j in range(len(matriz[i])):\n",
        "        print(matriz[i][j], end=\" \")\n",
        "    print()\n",
        "\n",
        "# Usando o método index() para encontrar o índice de um elemento\n",
        "frutas = [\"maçã\", \"banana\", \"laranja\"]\n",
        "indice_banana = frutas.index(\"banana\")\n",
        "print(indice_banana)  # 1\n",
        "\n",
        "# Usando o método count() para contar ocorrências de um elemento\n",
        "numeros = [1, 2, 3, 1, 4, 1, 5]\n",
        "ocorrencias_1 = numeros.count(1)\n",
        "print(ocorrencias_1)  # 3\n",
        "\n",
        "# Usando list comprehension para criar listas\n",
        "quadrados = [x**2 for x in range(1, 6)]\n",
        "print(quadrados)  # [1, 4, 9, 16, 25]\n",
        "\n",
        "pares = [x for x in range(10) if x % 2 == 0]\n",
        "print(pares)  # [0, 2, 4, 6, 8]\n",
        "\n",
        "\n",
        "```\n",
        "\n",
        "---"
      ],
      "metadata": {
        "id": "xo7qAxbvzjRU"
      }
    },
    {
      "cell_type": "code",
      "source": [
        "frutas = [\"maçã\", \"banana\", \"laranja\"]\n",
        "print(frutas)"
      ],
      "metadata": {
        "colab": {
          "base_uri": "https://localhost:8080/"
        },
        "id": "FAuYLEqlzjJz",
        "outputId": "757a5d0e-29b8-4b80-be04-70e302e8bca4"
      },
      "execution_count": null,
      "outputs": [
        {
          "output_type": "stream",
          "name": "stdout",
          "text": [
            "['maçã', 'banana', 'laranja']\n"
          ]
        }
      ]
    },
    {
      "cell_type": "code",
      "source": [
        "# Criando listas com a função list()\n",
        "lista_de_string = list(\"Python\")  # Converte string para lista de caracteres\n",
        "print(lista_de_string)  # ['P', 'y', 't', 'h', 'o', 'n']"
      ],
      "metadata": {
        "colab": {
          "base_uri": "https://localhost:8080/"
        },
        "id": "w4O4ezkx3s0I",
        "outputId": "6eaf9bc1-316b-4d74-a6f0-f36fb2433608"
      },
      "execution_count": null,
      "outputs": [
        {
          "output_type": "stream",
          "name": "stdout",
          "text": [
            "['P', 'y', 't', 'h', 'o', 'n']\n"
          ]
        }
      ]
    },
    {
      "cell_type": "code",
      "source": [
        "numeros = list(range(1, 6))\n",
        "print(f\"{numeros}\")\n",
        "\n",
        "numeros = list(range(6))\n",
        "print(f\"{numeros}\")"
      ],
      "metadata": {
        "colab": {
          "base_uri": "https://localhost:8080/"
        },
        "id": "_szLUvK93x_a",
        "outputId": "d4bc6f91-d2ac-4e80-adff-be3368e9988f"
      },
      "execution_count": null,
      "outputs": [
        {
          "output_type": "stream",
          "name": "stdout",
          "text": [
            "[1, 2, 3, 4, 5]\n",
            "[0, 1, 2, 3, 4, 5]\n"
          ]
        }
      ]
    },
    {
      "cell_type": "code",
      "source": [
        "# Acessando elementos por índice (índices começam em 0)\n",
        "print(frutas[0])  # Primeiro elemento: \"maçã\"\n",
        "print(frutas[1])  # Segundo elemento: \"banana\"\n",
        "print(frutas[2])  # Terceiro elemento: \"laranja\""
      ],
      "metadata": {
        "colab": {
          "base_uri": "https://localhost:8080/"
        },
        "id": "sE0QiJ7I31SZ",
        "outputId": "91d95817-24c5-469e-a568-1644e3573b90"
      },
      "execution_count": null,
      "outputs": [
        {
          "output_type": "stream",
          "name": "stdout",
          "text": [
            "maçã\n",
            "banana\n",
            "laranja\n"
          ]
        }
      ]
    },
    {
      "cell_type": "code",
      "source": [
        "# Índices negativos (contam a partir do final)\n",
        "print(frutas[-1])  # Último elemento: \"laranja\"\n",
        "print(frutas[-2])  # Penúltimo elemento: \"banana\""
      ],
      "metadata": {
        "colab": {
          "base_uri": "https://localhost:8080/"
        },
        "id": "7QQiCRL75Fu8",
        "outputId": "dd315a72-4052-4c03-8ed6-83e943e106e1"
      },
      "execution_count": null,
      "outputs": [
        {
          "output_type": "stream",
          "name": "stdout",
          "text": [
            "laranja\n",
            "banana\n"
          ]
        }
      ]
    },
    {
      "cell_type": "code",
      "source": [
        "# Verificando se um elemento está na lista\n",
        "print(\"maçã\" in frutas) # True\n",
        "print(\"uva\" in frutas) # False"
      ],
      "metadata": {
        "colab": {
          "base_uri": "https://localhost:8080/"
        },
        "id": "2wttch-t5JYK",
        "outputId": "7adc95e2-d9bf-4df3-c056-60f1a1e30807"
      },
      "execution_count": null,
      "outputs": [
        {
          "output_type": "stream",
          "name": "stdout",
          "text": [
            "True\n",
            "False\n"
          ]
        }
      ]
    },
    {
      "cell_type": "code",
      "source": [
        "# Fatiamento de listas (slicing)\n",
        "# lista[início:fim:passo] - o fim não é incluído\n",
        "numeros = [0, 1, 2, 3, 4, 5, 6, 7, 8, 9]\n",
        "\n",
        "print(numeros[2:5])    # [2, 3, 4]\n",
        "print(numeros[:3])     # [0, 1, 2]\n",
        "print(numeros[7:])     # [7, 8, 9]\n",
        "print(numeros[::2])    # [0, 2, 4, 6, 8]\n",
        "print(numeros[::3])    # [0, 3, 6, 9]\n",
        "print(numeros[::-1])   # [9, 8, 7, 6, 5, 4, 3, 2, 1, 0] (invertida)\n",
        "print(numeros[0:7:2])  # [0, 2, 4, 6]\n",
        "print(numeros[1:7:2])  # [1, 3, 5]\n",
        "print(numeros[::])     # [0, 1, 2, 3, 4, 5, 6, 7, 8, 9]"
      ],
      "metadata": {
        "colab": {
          "base_uri": "https://localhost:8080/"
        },
        "id": "TAHTWwlJ5iJB",
        "outputId": "a31ac147-ddd1-4070-c17d-afe14596f4aa"
      },
      "execution_count": null,
      "outputs": [
        {
          "output_type": "stream",
          "name": "stdout",
          "text": [
            "[2, 3, 4]\n",
            "[0, 1, 2]\n",
            "[7, 8, 9]\n",
            "[0, 2, 4, 6, 8]\n",
            "[0, 3, 6, 9]\n",
            "[9, 8, 7, 6, 5, 4, 3, 2, 1, 0]\n",
            "[0, 2, 4, 6]\n",
            "[1, 3, 5]\n",
            "[0, 1, 2, 3, 4, 5, 6, 7, 8, 9]\n"
          ]
        }
      ]
    },
    {
      "cell_type": "code",
      "source": [
        "# Listas aninhadas (matrizes)\n",
        "matriz = [\n",
        "    [1, 2, 3],\n",
        "    [4, 5, 6],\n",
        "    [7, 8, 9]\n",
        "]\n",
        "\n",
        "# Acessando elementos em listas aninhadas\n",
        "print(matriz[0][0])  # 1 (primeira linha, primeira coluna)\n",
        "print(matriz[1][1])  # 5 (segunda linha, segunda coluna)\n",
        "print(matriz[2][2])  # 9 (terceira linha, terceira coluna)"
      ],
      "metadata": {
        "colab": {
          "base_uri": "https://localhost:8080/"
        },
        "id": "r1NNnfUB5nys",
        "outputId": "ccd7b22c-5afd-4ebc-d72e-4d10e0a34bab"
      },
      "execution_count": null,
      "outputs": [
        {
          "output_type": "stream",
          "name": "stdout",
          "text": [
            "1\n",
            "5\n",
            "9\n"
          ]
        }
      ]
    },
    {
      "cell_type": "code",
      "source": [
        "matriz = [\n",
        "    [[1, 2, 3],\n",
        "    [4, 5, 6],\n",
        "    [7, 8, 9], 2, 3],\n",
        "    [4, 5, 6],\n",
        "    [7, 8, 9]\n",
        "]\n",
        "\n",
        "# Acessando elementos em listas aninhadas\n",
        "print(matriz[0][0])  # [1, 2, 3] (primeira linha, primeira coluna)\n",
        "print(matriz[0][0][0])  # 1\n",
        "print(matriz[0][2][2])  # 9"
      ],
      "metadata": {
        "colab": {
          "base_uri": "https://localhost:8080/"
        },
        "id": "pDKyJQXR6DAG",
        "outputId": "9950c433-503e-4ea0-ed1a-a6967588f821"
      },
      "execution_count": null,
      "outputs": [
        {
          "output_type": "stream",
          "name": "stdout",
          "text": [
            "[1, 2, 3]\n",
            "1\n",
            "9\n"
          ]
        }
      ]
    },
    {
      "cell_type": "code",
      "source": [
        "# Percorrendo uma lista com um loop for\n",
        "for fruta in frutas:\n",
        "    print(f\"Eu gosto de {fruta}\")\n",
        "\n",
        "# Percorrendo com índices usando enumerate\n",
        "for indice, fruta in enumerate(frutas):\n",
        "    print(f\"Índice {indice}: {fruta}\")"
      ],
      "metadata": {
        "colab": {
          "base_uri": "https://localhost:8080/"
        },
        "id": "8DYTVAUW9Ib8",
        "outputId": "4c22f219-a527-4460-bf34-a57ffcd2e38b"
      },
      "execution_count": null,
      "outputs": [
        {
          "output_type": "stream",
          "name": "stdout",
          "text": [
            "Eu gosto de maçã\n",
            "Eu gosto de banana\n",
            "Eu gosto de laranja\n",
            "Índice 0: maçã\n",
            "Índice 1: banana\n",
            "Índice 2: laranja\n"
          ]
        }
      ]
    },
    {
      "cell_type": "code",
      "source": [
        "# Usando list comprehension para criar listas\n",
        "quadrados = [x**2 for x in range(1, 6)]\n",
        "print(quadrados)  # [1, 4, 9, 16, 25]\n",
        "\n",
        "pares = [x for x in range(10) if x % 2 == 0]\n",
        "print(pares)  # [0, 2, 4, 6, 8]"
      ],
      "metadata": {
        "colab": {
          "base_uri": "https://localhost:8080/"
        },
        "id": "xAUAMrfU9Jcu",
        "outputId": "d762a2db-5dd1-4ab9-ad25-7e56c2065247"
      },
      "execution_count": null,
      "outputs": [
        {
          "output_type": "stream",
          "name": "stdout",
          "text": [
            "[1, 4, 9, 16, 25]\n",
            "[0, 2, 4, 6, 8]\n"
          ]
        }
      ]
    },
    {
      "cell_type": "markdown",
      "source": [
        "---\n",
        "\n",
        "## 🛠️ Aula 3: Métodos da classe list\n",
        "\n",
        "```python\n",
        "# Seção para suas anotações sobre métodos da classe list\n",
        "\n",
        "# Lista para exemplos\n",
        "frutas = [\"maçã\", \"banana\", \"laranja\"]\n",
        "print(f\"Lista original: {frutas}\")\n",
        "\n",
        "# Adicionando elementos\n",
        "frutas.append(\"uva\")  # Adiciona ao final da lista\n",
        "print(f\"Após append: {frutas}\")\n",
        "\n",
        "frutas.insert(1, \"morango\")  # Insere em uma posição específica\n",
        "print(f\"Após insert: {frutas}\")\n",
        "\n",
        "frutas.extend([\"abacaxi\", \"melancia\"])  # Adiciona vários elementos\n",
        "print(f\"Após extend: {frutas}\")\n",
        "\n",
        "# Removendo elementos\n",
        "frutas.remove(\"banana\")  # Remove pelo valor\n",
        "print(f\"Após remove: {frutas}\")\n",
        "\n",
        "elemento_removido = frutas.pop()  # Remove e retorna o último elemento\n",
        "print(f\"Elemento removido com pop(): {elemento_removido}\")\n",
        "print(f\"Após pop(): {frutas}\")\n",
        "\n",
        "elemento_removido = frutas.pop(1)  # Remove e retorna elemento pelo índice\n",
        "print(f\"Elemento removido com pop(1): {elemento_removido}\")\n",
        "print(f\"Após pop(1): {frutas}\")\n",
        "\n",
        "# Limpando a lista\n",
        "frutas_backup = frutas.copy()  # Fazendo uma cópia antes de limpar\n",
        "frutas.clear()  # Remove todos os elementos\n",
        "print(f\"Após clear: {frutas}\")\n",
        "frutas = frutas_backup.copy()  # Restaurando a lista\n",
        "\n",
        "# Localizando elementos\n",
        "indice = frutas.index(\"maçã\")  # Retorna o índice da primeira ocorrência\n",
        "print(f\"Índice de 'maçã': {indice}\")\n",
        "\n",
        "# Contando ocorrências\n",
        "numeros = [1, 2, 3, 1, 4, 1, 5]\n",
        "contagem = numeros.count(1)  # Conta quantas vezes o valor aparece\n",
        "print(f\"Contagem de 1 em {numeros}: {contagem}\")\n",
        "\n",
        "# Ordenação\n",
        "numeros.sort()  # Ordena a lista in-place (modifica a original)\n",
        "print(f\"Após sort: {numeros}\")\n",
        "\n",
        "frutas.sort(reverse=True)  # Ordena em ordem decrescente\n",
        "print(f\"Frutas em ordem decrescente: {frutas}\")\n",
        "\n",
        "# Ordenação sem modificar a lista original\n",
        "numeros = [5, 2, 8, 1, 9]\n",
        "numeros_ordenados = sorted(numeros)  # Retorna uma nova lista ordenada\n",
        "print(f\"Original: {numeros}\")\n",
        "print(f\"Ordenada: {numeros_ordenados}\")\n",
        "\n",
        "# Invertendo a ordem\n",
        "frutas.reverse()  # Inverte a ordem dos elementos\n",
        "print(f\"Após reverse: {frutas}\")\n",
        "\n",
        "# Copiando listas\n",
        "lista1 = [1, 2, 3]\n",
        "lista2 = lista1  # Isso NÃO cria uma cópia, apenas referencia a mesma lista\n",
        "lista3 = lista1.copy()  # Isso cria uma cópia real\n",
        "lista4 = lista1[:]  # Outra forma de criar uma cópia\n",
        "\n",
        "lista1.append(4)\n",
        "print(f\"lista1: {lista1}\")\n",
        "print(f\"lista2: {lista2}\")  # lista2 também é modificada\n",
        "print(f\"lista3: {lista3}\")  # lista3 não é modificada\n",
        "print(f\"lista4: {lista4}\")  # lista4 não é modificada\n",
        "\n",
        "# Compreensão de listas (list comprehension)\n",
        "quadrados = [x**2 for x in range(1, 6)]\n",
        "print(f\"Quadrados: {quadrados}\")\n",
        "\n",
        "# Compreensão de listas com condição\n",
        "pares = [x for x in range(10) if x % 2 == 0]\n",
        "print(f\"Números pares: {pares}\")\n",
        "```\n",
        "\n",
        "---"
      ],
      "metadata": {
        "id": "4c2CSwArzi96"
      }
    },
    {
      "cell_type": "code",
      "source": [
        "# Lista para exemplos\n",
        "frutas = [\"maçã\", \"banana\", \"laranja\"]\n",
        "print(f\"Lista original: {frutas}\")\n",
        "\n",
        "# Adicionando elementos\n",
        "frutas.append(\"uva\")  # Adiciona ao final da lista\n",
        "print(f\"Após append: {frutas}\")\n",
        "\n",
        "frutas.insert(1, \"morango\")  # Insere em uma posição específica\n",
        "print(f\"Após insert: {frutas}\")\n",
        "\n",
        "frutas.extend([\"abacaxi\", \"melancia\"])  # Adiciona vários elementos\n",
        "print(f\"Após extend: {frutas}\")"
      ],
      "metadata": {
        "id": "6BFHQgaezixe",
        "colab": {
          "base_uri": "https://localhost:8080/"
        },
        "outputId": "6f4698fb-1d9d-4b84-c23a-dd00da4d9d5c"
      },
      "execution_count": 2,
      "outputs": [
        {
          "output_type": "stream",
          "name": "stdout",
          "text": [
            "Lista original: ['maçã', 'banana', 'laranja']\n",
            "Após append: ['maçã', 'banana', 'laranja', 'uva']\n",
            "Após insert: ['maçã', 'morango', 'banana', 'laranja', 'uva']\n",
            "Após extend: ['maçã', 'morango', 'banana', 'laranja', 'uva', 'abacaxi', 'melancia']\n"
          ]
        }
      ]
    },
    {
      "cell_type": "code",
      "source": [
        "# Removendo elementos\n",
        "frutas.remove(\"banana\")  # Remove pelo valor\n",
        "print(f\"Após remove: {frutas}\")\n",
        "\n",
        "elemento_removido = frutas.pop()  # Remove e retorna o último elemento\n",
        "print(f\"Elemento removido com pop(): {elemento_removido}\")\n",
        "print(f\"Após pop(): {frutas}\")\n",
        "\n",
        "elemento_removido = frutas.pop(1)  # Remove e retorna elemento pelo índice\n",
        "print(f\"Elemento removido com pop(1): {elemento_removido}\")\n",
        "print(f\"Após pop(1): {frutas}\")"
      ],
      "metadata": {
        "colab": {
          "base_uri": "https://localhost:8080/"
        },
        "id": "7wz8bdeVUB67",
        "outputId": "15d9b4c6-4e91-45bc-9f15-40c106c65ded"
      },
      "execution_count": 3,
      "outputs": [
        {
          "output_type": "stream",
          "name": "stdout",
          "text": [
            "Após remove: ['maçã', 'morango', 'laranja', 'uva', 'abacaxi', 'melancia']\n",
            "Elemento removido com pop(): melancia\n",
            "Após pop(): ['maçã', 'morango', 'laranja', 'uva', 'abacaxi']\n",
            "Elemento removido com pop(1): morango\n",
            "Após pop(1): ['maçã', 'laranja', 'uva', 'abacaxi']\n"
          ]
        }
      ]
    },
    {
      "cell_type": "code",
      "source": [
        "# Limpando a lista\n",
        "frutas_backup = frutas.copy()  # Fazendo uma cópia antes de limpar\n",
        "frutas.clear()  # Remove todos os elementos\n",
        "print(f\"Após clear: {frutas}\")\n",
        "frutas = frutas_backup.copy()  # Restaurando a lista\n",
        "print(f\"Após restore: {frutas}\")"
      ],
      "metadata": {
        "colab": {
          "base_uri": "https://localhost:8080/"
        },
        "id": "vwCXovI9zVAC",
        "outputId": "e4d9d1d5-1704-466c-e8aa-fed6fa1c0e33"
      },
      "execution_count": 7,
      "outputs": [
        {
          "output_type": "stream",
          "name": "stdout",
          "text": [
            "Após clear: []\n",
            "Após restore: ['maçã', 'laranja', 'uva', 'abacaxi']\n"
          ]
        }
      ]
    },
    {
      "cell_type": "code",
      "source": [
        "# Localizando elementos\n",
        "indice = frutas.index(\"maçã\")  # Retorna o índice da primeira ocorrência\n",
        "print(f\"Índice de 'maçã': {indice}\")"
      ],
      "metadata": {
        "colab": {
          "base_uri": "https://localhost:8080/"
        },
        "id": "1N0UHPXB0nH-",
        "outputId": "1e72c501-b8c0-4092-a67f-4f57722b23ff"
      },
      "execution_count": 9,
      "outputs": [
        {
          "output_type": "stream",
          "name": "stdout",
          "text": [
            "Índice de 'maçã': 0\n"
          ]
        }
      ]
    },
    {
      "cell_type": "code",
      "source": [
        "# Contando ocorrências\n",
        "numeros = [1, 2, 3, 1, 4, 1, 5]\n",
        "contagem = numeros.count(1)  # Conta quantas vezes o valor aparece\n",
        "print(f\"Contagem de 1 em {numeros}: {contagem}\")"
      ],
      "metadata": {
        "colab": {
          "base_uri": "https://localhost:8080/"
        },
        "id": "ApG71MB00vDo",
        "outputId": "6f927845-501b-4a03-cc9c-5c31202d5e59"
      },
      "execution_count": 14,
      "outputs": [
        {
          "output_type": "stream",
          "name": "stdout",
          "text": [
            "Contagem de 1 em [1, 2, 3, 1, 4, 1, 5]: 3\n"
          ]
        }
      ]
    },
    {
      "cell_type": "code",
      "source": [
        "# Ordenação\n",
        "numeros.sort()  # Ordena a lista in-place (modifica a original)\n",
        "print(f\"Após sort: {numeros}\")\n",
        "\n",
        "frutas.sort(reverse=True)  # Ordena em ordem decrescente\n",
        "print(f\"Frutas em ordem decrescente: {frutas}\")\n",
        "\n",
        "# Ordenação sem modificar a lista original\n",
        "numeros = [5, 2, 8, 1, 9]\n",
        "numeros_ordenados = sorted(numeros)  # Retorna uma nova lista ordenada\n",
        "print(f\"Original: {numeros}\")\n",
        "print(f\"Ordenada: {numeros_ordenados}\")"
      ],
      "metadata": {
        "colab": {
          "base_uri": "https://localhost:8080/"
        },
        "id": "2Ylj5mdK5tPn",
        "outputId": "10d7c7e9-c59e-4e51-cb68-b330ac1a7c2c"
      },
      "execution_count": 15,
      "outputs": [
        {
          "output_type": "stream",
          "name": "stdout",
          "text": [
            "Após sort: [1, 1, 1, 2, 3, 4, 5]\n",
            "Frutas em ordem decrescente: ['uva', 'maçã', 'laranja', 'abacaxi']\n",
            "Original: [5, 2, 8, 1, 9]\n",
            "Ordenada: [1, 2, 5, 8, 9]\n"
          ]
        }
      ]
    },
    {
      "cell_type": "code",
      "source": [
        "# Invertendo a ordem\n",
        "frutas.reverse()  # Inverte a ordem dos elementos\n",
        "print(f\"Após reverse: {frutas}\")"
      ],
      "metadata": {
        "colab": {
          "base_uri": "https://localhost:8080/"
        },
        "id": "ld9z2l7l6_Vs",
        "outputId": "6a76407d-256b-4b20-dd69-bf74f56effa6"
      },
      "execution_count": 17,
      "outputs": [
        {
          "output_type": "stream",
          "name": "stdout",
          "text": [
            "Após reverse: ['uva', 'maçã', 'laranja', 'abacaxi']\n"
          ]
        }
      ]
    },
    {
      "cell_type": "code",
      "source": [
        "# Copiando listas\n",
        "lista1 = [1, 2, 3]\n",
        "lista2 = lista1  # Isso NÃO cria uma cópia, apenas referencia a mesma lista\n",
        "lista3 = lista1.copy()  # Isso cria uma cópia real\n",
        "lista4 = lista1[:]  # Outra forma de criar uma cópia\n",
        "\n",
        "lista1.append(4)\n",
        "print(f\"lista1: {lista1}\")\n",
        "print(f\"lista2: {lista2}\")  # lista2 também é modificada\n",
        "print(f\"lista3: {lista3}\")  # lista3 não é modificada\n",
        "print(f\"lista4: {lista4}\")  # lista4 não é modificada"
      ],
      "metadata": {
        "colab": {
          "base_uri": "https://localhost:8080/"
        },
        "id": "tvYERqjZ7WOc",
        "outputId": "c3eaed59-a2c2-484a-da8a-cc04ab7e065f"
      },
      "execution_count": 19,
      "outputs": [
        {
          "output_type": "stream",
          "name": "stdout",
          "text": [
            "lista1: [1, 2, 3, 4]\n",
            "lista2: [1, 2, 3, 4]\n",
            "lista3: [1, 2, 3]\n",
            "lista4: [1, 2, 3]\n"
          ]
        }
      ]
    },
    {
      "cell_type": "code",
      "source": [
        "# Compreensão de listas (list comprehension)\n",
        "quadrados = [x**2 for x in range(1, 6)]\n",
        "print(f\"Quadrados: {quadrados}\")\n",
        "\n",
        "# Compreensão de listas com condição\n",
        "pares = [x for x in range(10) if x % 2 == 0]\n",
        "print(f\"Números pares: {pares}\")"
      ],
      "metadata": {
        "colab": {
          "base_uri": "https://localhost:8080/"
        },
        "id": "rWzAkJVb7lQp",
        "outputId": "ed4966e5-b073-4483-a6ee-25984f82b226"
      },
      "execution_count": 22,
      "outputs": [
        {
          "output_type": "stream",
          "name": "stdout",
          "text": [
            "Quadrados: [1, 4, 9, 16, 25]\n",
            "Números pares: [0, 2, 4, 6, 8]\n"
          ]
        }
      ]
    },
    {
      "cell_type": "code",
      "source": [
        "# Mais do [].sort\n",
        "\n",
        "linguagens = [\"python\", \"js\", \"c\", \"java\", \"csharp\"]\n",
        "linguagens.sort(key=lambda x: len(x)) # ['c', 'js', 'java', 'python', 'csharp']\n",
        "print(linguagens)\n",
        "\n",
        "linguagens = [\"python\", \"js\", \"c\", \"java\", \"csharp\"]\n",
        "linguagens.sort(key=lambda x: len(x), reverse=True) # ['python', 'csharp', 'java', 'js', 'c']\n",
        "print(linguagens)"
      ],
      "metadata": {
        "colab": {
          "base_uri": "https://localhost:8080/"
        },
        "id": "s2hoTuN67ori",
        "outputId": "cca4437a-5d01-4398-8089-1b5f2f65a08d"
      },
      "execution_count": 25,
      "outputs": [
        {
          "output_type": "stream",
          "name": "stdout",
          "text": [
            "['c', 'js', 'java', 'python', 'csharp']\n",
            "['python', 'csharp', 'java', 'js', 'c']\n"
          ]
        }
      ]
    },
    {
      "cell_type": "code",
      "source": [
        "# Mais do sorted\n",
        "\n",
        "linguagens = [\"python\", \"js\", \"c\", \"java\", \"csharp\"]\n",
        "print(sorted(linguagens, key=lambda x: len(x))) # ['c', 'js', 'java', 'python', 'csharp']\n",
        "\n",
        "linguagens = [\"python\", \"js\", \"c\", \"java\", \"csharp\"]\n",
        "print(sorted(linguagens, key=lambda x: len(x), reverse=True)) # ['python', 'csharp', 'java', 'js', 'c']"
      ],
      "metadata": {
        "colab": {
          "base_uri": "https://localhost:8080/"
        },
        "id": "dJyYI4qb8XpL",
        "outputId": "c0c6ee28-cf7c-438e-e3ff-3a39f1d2a0d9"
      },
      "execution_count": 29,
      "outputs": [
        {
          "output_type": "stream",
          "name": "stdout",
          "text": [
            "['c', 'js', 'java', 'python', 'csharp']\n",
            "['python', 'csharp', 'java', 'js', 'c']\n"
          ]
        }
      ]
    },
    {
      "cell_type": "markdown",
      "source": [
        "---\n",
        "\n",
        "## 🧩 Desafio: Sistema de Gerenciamento de Tarefas\n",
        "\n",
        "```python\n",
        "# Desafio: Crie um sistema simples de gerenciamento de tarefas usando listas\n",
        "# O sistema deve permitir:\n",
        "# 1. Adicionar tarefas\n",
        "# 2. Marcar tarefas como concluídas\n",
        "# 3. Remover tarefas\n",
        "# 4. Listar todas as tarefas\n",
        "# 5. Listar apenas tarefas pendentes\n",
        "# 6. Listar apenas tarefas concluídas\n",
        "\n",
        "def sistema_tarefas():\n",
        "    tarefas = []\n",
        "    tarefas_concluidas = []\n",
        "    \n",
        "    # Implemente as funções do sistema aqui\n",
        "    \n",
        "    # Exemplo de uso:\n",
        "    # adicionar_tarefa(tarefas, \"Estudar Python\")\n",
        "    # adicionar_tarefa(tarefas, \"Fazer exercícios\")\n",
        "    # listar_tarefas(tarefas, tarefas_concluidas)\n",
        "    # concluir_tarefa(tarefas, tarefas_concluidas, 0)\n",
        "    # listar_tarefas(tarefas, tarefas_concluidas)\n",
        "    \n",
        "    pass\n",
        "\n",
        "# sistema_tarefas()\n",
        "```\n",
        "\n",
        "---"
      ],
      "metadata": {
        "id": "1otQb6iYzW-Y"
      }
    },
    {
      "cell_type": "code",
      "source": [],
      "metadata": {
        "id": "Eq4cIzPvzXWb"
      },
      "execution_count": null,
      "outputs": []
    },
    {
      "cell_type": "markdown",
      "source": [
        "---\n",
        "\n",
        "## 📝 Exercícios Práticos\n",
        "\n",
        "```python\n",
        "# Exercício 1: Manipulação Básica de Listas\n",
        "# Crie uma lista de números de 1 a 10 e imprima apenas os números pares\n",
        "\n",
        "# Exercício 2: Operações com Listas\n",
        "# Crie duas listas e combine-as de diferentes maneiras\n",
        "\n",
        "# Exercício 3: Métodos de Lista\n",
        "# Crie uma lista de nomes e ordene-a alfabeticamente e depois inverta a ordem\n",
        "\n",
        "# Exercício 4: Listas Aninhadas\n",
        "# Crie uma matriz 3x3 e calcule a soma de cada linha\n",
        "\n",
        "# Exercício 5: Compreensão de Listas\n",
        "# Use list comprehension para criar uma lista com o cubo dos números de 1 a 10\n",
        "```\n",
        "\n",
        "---"
      ],
      "metadata": {
        "id": "1lAQ3jr9zXhx"
      }
    },
    {
      "cell_type": "code",
      "source": [],
      "metadata": {
        "id": "JcR_VS-ezXvK"
      },
      "execution_count": null,
      "outputs": []
    }
  ]
}