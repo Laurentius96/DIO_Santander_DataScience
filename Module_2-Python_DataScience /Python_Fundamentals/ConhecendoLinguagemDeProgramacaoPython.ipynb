{
  "nbformat": 4,
  "nbformat_minor": 0,
  "metadata": {
    "colab": {
      "provenance": [],
      "authorship_tag": "ABX9TyNkpG/QVoKMu/8Fq6bUg/sQ",
      "include_colab_link": true
    },
    "kernelspec": {
      "name": "python3",
      "display_name": "Python 3"
    },
    "language_info": {
      "name": "python"
    }
  },
  "cells": [
    {
      "cell_type": "markdown",
      "metadata": {
        "id": "view-in-github",
        "colab_type": "text"
      },
      "source": [
        "<a href=\"https://colab.research.google.com/github/Laurentius96/DIO_Santander_DataScience/blob/main/Module_2-Python_DataScience%20/Python_Fundamentals/ConhecendoLinguagemDeProgramacaoPython.ipynb\" target=\"_parent\"><img src=\"https://colab.research.google.com/assets/colab-badge.svg\" alt=\"Open In Colab\"/></a>"
      ]
    },
    {
      "cell_type": "markdown",
      "source": [
        "# 📚 Conhecendo a Linguagem de Programação Python\n",
        "\n",
        "Bem-vindo ao seu guia de estudos em formato Jupyter Notebook! Abaixo está uma estrutura organizada para acompanhar as aulas do curso.\n",
        "\n",
        "### 📋 Índice de Aulas\n",
        "\n",
        "| # | Tópico | Duração |\n",
        "|---|--------|---------|\n",
        "| 1 | Tipos de Dados | 14:00 min |\n",
        "| 2 | Modo Interativo | 12:25 min |\n",
        "| 3 | Variáveis e Constantes | 20:37 min |\n",
        "| 4 | Conversão de Tipos | 12:50 min |\n",
        "| 5 | Funções de Entrada e Saída | 11:01 min |\n",
        "\n",
        "<br/>\n",
        "\n",
        "---\n",
        "\n",
        "<br/>\n",
        "\n",
        "## 📝 Aula 1: Tipos de Dados\n",
        "\n",
        "```python\n",
        "# Seção para suas anotações e exemplos sobre Tipos de Dados em Python\n",
        "\n",
        "# Tipos numéricos\n",
        "inteiro = 10\n",
        "flutuante = 10.5\n",
        "complexo = 1 + 2j\n",
        "\n",
        "# Strings\n",
        "texto = \"Olá, Python!\"\n",
        "\n",
        "# Booleanos\n",
        "verdadeiro = True\n",
        "falso = False\n",
        "\n",
        "# Coleções\n",
        "lista = [1, 2, 3, 4, 5]\n",
        "tupla = (1, 2, 3, 4, 5)\n",
        "dicionario = {\"chave\": \"valor\", \"nome\": \"Python\"}\n",
        "conjunto = {1, 2, 3, 4, 5}\n",
        "\n",
        "# Exibindo os tipos\n",
        "print(f\"Tipo de {inteiro}: {type(inteiro)}\")\n",
        "print(f\"Tipo de {flutuante}: {type(flutuante)}\")\n",
        "print(f\"Tipo de {texto}: {type(texto)}\")\n",
        "```\n",
        "\n",
        "<br/>\n",
        "\n",
        "---\n",
        "\n",
        "<br/>\n",
        "\n",
        "## 📝 Notas Adicionais\n",
        "\n",
        "```python\n",
        "# Use esta seção para suas anotações gerais, dúvidas e insights durante o curso\n",
        "\n",
        "\"\"\"\n",
        "Dúvidas para pesquisar:\n",
        "1.\n",
        "2.\n",
        "3.\n",
        "\n",
        "Conceitos importantes:\n",
        "-\n",
        "-\n",
        "-\n",
        "\n",
        "Links úteis:\n",
        "- Documentação oficial: https://docs.python.org/pt-br/3/\n",
        "- Python Tutor (visualização de código): http://pythontutor.com/\n",
        "\"\"\"\n",
        "```\n",
        "\n",
        "---"
      ],
      "metadata": {
        "id": "6bYzhKLCZW3b"
      }
    },
    {
      "cell_type": "code",
      "source": [
        "# Seção para suas anotações e exemplos sobre Tipos de Dados em Python\n",
        "\n",
        "# Tipos numéricos\n",
        "inteiro = 10\n",
        "flutuante = 10.5\n",
        "complexo = 1 + 2j\n",
        "\n",
        "# Strings\n",
        "texto = \"Olá, Python!\"\n",
        "\n",
        "# Booleanos\n",
        "verdadeiro = True\n",
        "falso = False\n",
        "\n",
        "# Coleções\n",
        "lista = [1, 2, 3, 4, 5]\n",
        "tupla = (1, 2, 3, 4, 5)\n",
        "dicionario = {\"chave\": \"valor\", \"nome\": \"Python\"}\n",
        "conjunto = {1, 2, 3, 4, 5}\n",
        "\n",
        "# Exibindo os tipos\n",
        "print(f\"Tipo de {inteiro}: {type(inteiro)}\")\n",
        "print(f\"Tipo de {flutuante}: {type(flutuante)}\")\n",
        "print(f\"Tipo de {complexo}: {type(complexo)}\")\n",
        "print(f\"Tipo de {texto}: {type(texto)}\")\n",
        "print(f\"Tipo de {verdadeiro}: {type(verdadeiro)}\")\n",
        "print(f\"Tipo de {falso}: {type(falso)}\")\n",
        "print(f\"Tipo de {lista}: {type(lista)}\")\n",
        "print(f\"Tipo de {tupla}: {type(tupla)}\")\n",
        "print(f\"Tipo de {dicionario}: {type(dicionario)}\")\n",
        "print(f\"Tipo de {conjunto}: {type(conjunto)}\")"
      ],
      "metadata": {
        "id": "aE9HgQyY0BR-",
        "colab": {
          "base_uri": "https://localhost:8080/"
        },
        "outputId": "a4c0c1f8-d601-4014-9fa6-eac7f0dde494"
      },
      "execution_count": 11,
      "outputs": [
        {
          "output_type": "stream",
          "name": "stdout",
          "text": [
            "Tipo de 10: <class 'int'>\n",
            "Tipo de 10.5: <class 'float'>\n",
            "Tipo de (1+2j): <class 'complex'>\n",
            "Tipo de Olá, Python!: <class 'str'>\n",
            "Tipo de True: <class 'bool'>\n",
            "Tipo de False: <class 'bool'>\n",
            "Tipo de [1, 2, 3, 4, 5]: <class 'list'>\n",
            "Tipo de (1, 2, 3, 4, 5): <class 'tuple'>\n",
            "Tipo de {'chave': 'valor', 'nome': 'Python'}: <class 'dict'>\n",
            "Tipo de {1, 2, 3, 4, 5}: <class 'set'>\n"
          ]
        }
      ]
    },
    {
      "cell_type": "markdown",
      "source": [
        "---\n",
        "\n",
        "## 🖥️ Aula 2: Modo Interativo\n",
        "\n",
        "```python\n",
        "# Seção para suas anotações sobre o Modo Interativo do Python\n",
        "\n",
        "\"\"\"\n",
        "Notas sobre o modo interativo:\n",
        "- Acessado via terminal com o comando 'python' ou 'python3'\n",
        "- Útil para testes rápidos e experimentações\n",
        "- Comandos são executados imediatamente após pressionar Enter\n",
        "- Histórico de comandos acessível com as setas para cima/baixo\n",
        "\"\"\"\n",
        "\n",
        "# Exemplos de comandos que você pode testar no modo interativo:\n",
        "2 + 2\n",
        "print(\"Olá, mundo!\")\n",
        "import sys\n",
        "sys.version\n",
        "\n",
        "# Função dir\n",
        "\n",
        "\"\"\"\n",
        "Sem argumentos, retornas a lista de nomes escopo local atual.\n",
        "Com um argumento, retorna uma lista de atributos válidos para\n",
        "o objeto.\n",
        "\"\"\"\n",
        "# Exemplos\n",
        "dir()\n",
        "dir(100)\n",
        "\n",
        "```\n",
        "---"
      ],
      "metadata": {
        "id": "zcorpOxV0Bs5"
      }
    },
    {
      "cell_type": "code",
      "source": [
        "2+2"
      ],
      "metadata": {
        "id": "GxJNAPrT0CJv",
        "colab": {
          "base_uri": "https://localhost:8080/"
        },
        "outputId": "b4ad4f2f-7b2c-44db-8934-e2fb2920b069"
      },
      "execution_count": 22,
      "outputs": [
        {
          "output_type": "execute_result",
          "data": {
            "text/plain": [
              "4"
            ]
          },
          "metadata": {},
          "execution_count": 22
        }
      ]
    },
    {
      "cell_type": "code",
      "source": [
        "print(\"Olá, mundo!\")"
      ],
      "metadata": {
        "colab": {
          "base_uri": "https://localhost:8080/"
        },
        "id": "yFf9qzqUgtm_",
        "outputId": "ba95747d-a066-4fdc-83bb-9b8808a77707"
      },
      "execution_count": 23,
      "outputs": [
        {
          "output_type": "stream",
          "name": "stdout",
          "text": [
            "Olá, mundo!\n"
          ]
        }
      ]
    },
    {
      "cell_type": "code",
      "source": [
        "import sys\n",
        "sys.version"
      ],
      "metadata": {
        "colab": {
          "base_uri": "https://localhost:8080/",
          "height": 35
        },
        "id": "t5drxz-egvja",
        "outputId": "e78aad5d-5c9e-4ca1-d8bb-a70b68448f67"
      },
      "execution_count": 24,
      "outputs": [
        {
          "output_type": "execute_result",
          "data": {
            "text/plain": [
              "'3.11.11 (main, Dec  4 2024, 08:55:07) [GCC 11.4.0]'"
            ],
            "application/vnd.google.colaboratory.intrinsic+json": {
              "type": "string"
            }
          },
          "metadata": {},
          "execution_count": 24
        }
      ]
    },
    {
      "cell_type": "code",
      "source": [
        "dir(str)"
      ],
      "metadata": {
        "colab": {
          "base_uri": "https://localhost:8080/"
        },
        "id": "W7OqMv78ho7O",
        "outputId": "351b000e-b7ff-47c5-e4d2-f411b7e91ec8"
      },
      "execution_count": 29,
      "outputs": [
        {
          "output_type": "execute_result",
          "data": {
            "text/plain": [
              "['__add__',\n",
              " '__class__',\n",
              " '__contains__',\n",
              " '__delattr__',\n",
              " '__dir__',\n",
              " '__doc__',\n",
              " '__eq__',\n",
              " '__format__',\n",
              " '__ge__',\n",
              " '__getattribute__',\n",
              " '__getitem__',\n",
              " '__getnewargs__',\n",
              " '__getstate__',\n",
              " '__gt__',\n",
              " '__hash__',\n",
              " '__init__',\n",
              " '__init_subclass__',\n",
              " '__iter__',\n",
              " '__le__',\n",
              " '__len__',\n",
              " '__lt__',\n",
              " '__mod__',\n",
              " '__mul__',\n",
              " '__ne__',\n",
              " '__new__',\n",
              " '__reduce__',\n",
              " '__reduce_ex__',\n",
              " '__repr__',\n",
              " '__rmod__',\n",
              " '__rmul__',\n",
              " '__setattr__',\n",
              " '__sizeof__',\n",
              " '__str__',\n",
              " '__subclasshook__',\n",
              " 'capitalize',\n",
              " 'casefold',\n",
              " 'center',\n",
              " 'count',\n",
              " 'encode',\n",
              " 'endswith',\n",
              " 'expandtabs',\n",
              " 'find',\n",
              " 'format',\n",
              " 'format_map',\n",
              " 'index',\n",
              " 'isalnum',\n",
              " 'isalpha',\n",
              " 'isascii',\n",
              " 'isdecimal',\n",
              " 'isdigit',\n",
              " 'isidentifier',\n",
              " 'islower',\n",
              " 'isnumeric',\n",
              " 'isprintable',\n",
              " 'isspace',\n",
              " 'istitle',\n",
              " 'isupper',\n",
              " 'join',\n",
              " 'ljust',\n",
              " 'lower',\n",
              " 'lstrip',\n",
              " 'maketrans',\n",
              " 'partition',\n",
              " 'removeprefix',\n",
              " 'removesuffix',\n",
              " 'replace',\n",
              " 'rfind',\n",
              " 'rindex',\n",
              " 'rjust',\n",
              " 'rpartition',\n",
              " 'rsplit',\n",
              " 'rstrip',\n",
              " 'split',\n",
              " 'splitlines',\n",
              " 'startswith',\n",
              " 'strip',\n",
              " 'swapcase',\n",
              " 'title',\n",
              " 'translate',\n",
              " 'upper',\n",
              " 'zfill']"
            ]
          },
          "metadata": {},
          "execution_count": 29
        }
      ]
    },
    {
      "cell_type": "code",
      "source": [
        "dir(lista)"
      ],
      "metadata": {
        "colab": {
          "base_uri": "https://localhost:8080/"
        },
        "id": "CbQz8E6eiJw1",
        "outputId": "2278cefc-2890-4fa1-8eff-cb304ba2335f"
      },
      "execution_count": 30,
      "outputs": [
        {
          "output_type": "execute_result",
          "data": {
            "text/plain": [
              "['__add__',\n",
              " '__class__',\n",
              " '__class_getitem__',\n",
              " '__contains__',\n",
              " '__delattr__',\n",
              " '__delitem__',\n",
              " '__dir__',\n",
              " '__doc__',\n",
              " '__eq__',\n",
              " '__format__',\n",
              " '__ge__',\n",
              " '__getattribute__',\n",
              " '__getitem__',\n",
              " '__getstate__',\n",
              " '__gt__',\n",
              " '__hash__',\n",
              " '__iadd__',\n",
              " '__imul__',\n",
              " '__init__',\n",
              " '__init_subclass__',\n",
              " '__iter__',\n",
              " '__le__',\n",
              " '__len__',\n",
              " '__lt__',\n",
              " '__mul__',\n",
              " '__ne__',\n",
              " '__new__',\n",
              " '__reduce__',\n",
              " '__reduce_ex__',\n",
              " '__repr__',\n",
              " '__reversed__',\n",
              " '__rmul__',\n",
              " '__setattr__',\n",
              " '__setitem__',\n",
              " '__sizeof__',\n",
              " '__str__',\n",
              " '__subclasshook__',\n",
              " 'append',\n",
              " 'clear',\n",
              " 'copy',\n",
              " 'count',\n",
              " 'extend',\n",
              " 'index',\n",
              " 'insert',\n",
              " 'pop',\n",
              " 'remove',\n",
              " 'reverse',\n",
              " 'sort']"
            ]
          },
          "metadata": {},
          "execution_count": 30
        }
      ]
    },
    {
      "cell_type": "markdown",
      "source": [
        "---\n",
        "\n",
        "## 🔤 Aula 3: Variáveis e Constantes\n",
        "\n",
        "```python\n",
        "# Seção para suas anotações sobre Variáveis e Constantes\n",
        "\n",
        "# Variáveis em Python\n",
        "nome = \"Maria\"\n",
        "idade = 25\n",
        "altura = 1.65\n",
        "\n",
        "# Python não tem constantes \"verdadeiras\", mas por convenção:\n",
        "PI = 3.14159\n",
        "GRAVIDADE = 9.8\n",
        "DIAS_SEMANA = 7\n",
        "\n",
        "# Escopo de variáveis\n",
        "def exemplo_escopo():\n",
        "    variavel_local = \"Só existe dentro da função\"\n",
        "    print(variavel_local)\n",
        "    print(nome)  # Variável global acessível\n",
        "\n",
        "# Múltiplas atribuições\n",
        "x, y, z = 1, 2, 3\n",
        "\n",
        "print(f\"Nome: {nome}, Idade: {idade}, Altura: {altura}\")\n",
        "print(f\"Valor de PI: {PI}\")\n",
        "```\n",
        "\n",
        "---"
      ],
      "metadata": {
        "id": "XXRbr9TK0CRI"
      }
    },
    {
      "cell_type": "code",
      "source": [],
      "metadata": {
        "id": "BHQUtokm0CX9"
      },
      "execution_count": null,
      "outputs": []
    },
    {
      "cell_type": "markdown",
      "source": [
        "---\n",
        "\n",
        "## 🔠 Aula 5: Funções de Entrada e Saída\n",
        "\n",
        "```python\n",
        "# Seção para suas anotações sobre Funções de Entrada e Saída\n",
        "\n",
        "# Função input() - entrada de dados\n",
        "nome = input(\"Digite seu nome: \")\n",
        "\n",
        "# Entrada de números (com conversão)\n",
        "idade = int(input(\"Digite sua idade: \"))\n",
        "altura = float(input(\"Digite sua altura em metros: \"))\n",
        "\n",
        "# Função print() - saída de dados\n",
        "print(\"Olá, mundo!\")\n",
        "\n",
        "# Formatação de strings com f-strings\n",
        "print(f\"Olá {nome}, você tem {idade} anos e {altura}m de altura.\")\n",
        "\n",
        "# Formatação com método format()\n",
        "print(\"Olá {}, você tem {} anos.\".format(nome, idade))\n",
        "\n",
        "# Parâmetros da função print()\n",
        "print(\"Python\", \"é\", \"incrível\", sep=\"-\", end=\"!\\n\")\n",
        "\n",
        "# Escrevendo em arquivos\n",
        "with open(\"exemplo.txt\", \"w\") as arquivo:\n",
        "    arquivo.write(\"Olá, este é um exemplo de escrita em arquivo!\")\n",
        "```\n",
        "\n",
        "---"
      ],
      "metadata": {
        "id": "tE1tqo2_0CeO"
      }
    },
    {
      "cell_type": "code",
      "source": [],
      "metadata": {
        "id": "oDd7bcY60Cmd"
      },
      "execution_count": null,
      "outputs": []
    },
    {
      "cell_type": "markdown",
      "source": [
        "---\n",
        "\n",
        "## 🔍 Exercícios Práticos\n",
        "\n",
        "```python\n",
        "# Exercício 1: Trabalhando com tipos de dados\n",
        "# Crie variáveis de diferentes tipos e imprima seus valores e tipos\n",
        "\n",
        "# Exercício 2: Conversão entre tipos\n",
        "# Converta entre diferentes tipos de dados e observe os resultados\n",
        "\n",
        "# Exercício 3: Entrada e saída\n",
        "# Crie um programa que solicite informações ao usuário e exiba-as formatadas\n",
        "\n",
        "# Exercício 4: Desafio\n",
        "# Crie um programa que utilize todos os conceitos aprendidos até agora\n",
        "```\n",
        "\n",
        "---"
      ],
      "metadata": {
        "id": "O3pZboHL0Cse"
      }
    },
    {
      "cell_type": "code",
      "source": [],
      "metadata": {
        "id": "d0XoDuklZWHX"
      },
      "execution_count": null,
      "outputs": []
    }
  ]
}