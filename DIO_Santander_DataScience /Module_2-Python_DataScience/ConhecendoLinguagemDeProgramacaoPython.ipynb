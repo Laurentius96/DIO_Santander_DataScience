{
  "nbformat": 4,
  "nbformat_minor": 0,
  "metadata": {
    "colab": {
      "provenance": [],
      "authorship_tag": "ABX9TyNV5q2M/VFOhfS3JdrGhp7i",
      "include_colab_link": true
    },
    "kernelspec": {
      "name": "python3",
      "display_name": "Python 3"
    },
    "language_info": {
      "name": "python"
    }
  },
  "cells": [
    {
      "cell_type": "markdown",
      "metadata": {
        "id": "view-in-github",
        "colab_type": "text"
      },
      "source": [
        "<a href=\"https://colab.research.google.com/github/Laurentius96/DIO_Santander_DataScience/blob/main/DIO_Santander_DataScience%20/Module_2-Python_DataScience/ConhecendoLinguagemDeProgramacaoPython.ipynb\" target=\"_parent\"><img src=\"https://colab.research.google.com/assets/colab-badge.svg\" alt=\"Open In Colab\"/></a>"
      ]
    },
    {
      "cell_type": "markdown",
      "source": [
        "# 📚 Conhecendo a Linguagem de Programação Python\n",
        "\n",
        "Bem-vindo ao seu guia de estudos em formato Jupyter Notebook! Abaixo está uma estrutura organizada para acompanhar as aulas do curso.\n",
        "\n",
        "### 📋 Índice de Aulas\n",
        "\n",
        "| # | Tópico | Duração |\n",
        "|---|--------|---------|\n",
        "| 1 | Tipos de Dados | 14:00 min |\n",
        "| 2 | Modo Interativo | 12:25 min |\n",
        "| 3 | Variáveis e Constantes | 20:37 min |\n",
        "| 4 | Conversão de Tipos | 12:50 min |\n",
        "| 5 | Funções de Entrada e Saída | 11:01 min |\n",
        "\n",
        "<br/>\n",
        "\n",
        "---\n",
        "\n",
        "<br/>\n",
        "\n",
        "## 📝 Aula 1: Tipos de Dados\n",
        "\n",
        "```python\n",
        "# Seção para suas anotações e exemplos sobre Tipos de Dados em Python\n",
        "\n",
        "# Tipos numéricos\n",
        "inteiro = 10\n",
        "flutuante = 10.5\n",
        "complexo = 1 + 2j\n",
        "\n",
        "# Strings\n",
        "texto = \"Olá, Python!\"\n",
        "\n",
        "# Booleanos\n",
        "verdadeiro = True\n",
        "falso = False\n",
        "\n",
        "# Coleções\n",
        "lista = [1, 2, 3, 4, 5]\n",
        "tupla = (1, 2, 3, 4, 5)\n",
        "dicionario = {\"chave\": \"valor\", \"nome\": \"Python\"}\n",
        "conjunto = {1, 2, 3, 4, 5}\n",
        "\n",
        "# Exibindo os tipos\n",
        "print(f\"Tipo de {inteiro}: {type(inteiro)}\")\n",
        "print(f\"Tipo de {flutuante}: {type(flutuante)}\")\n",
        "print(f\"Tipo de {texto}: {type(texto)}\")\n",
        "```\n",
        "\n",
        "<br/>\n",
        "\n",
        "---\n",
        "\n",
        "<br/>\n",
        "\n",
        "## 📝 Notas Adicionais\n",
        "\n",
        "```python\n",
        "# Use esta seção para suas anotações gerais, dúvidas e insights durante o curso\n",
        "\n",
        "\"\"\"\n",
        "Dúvidas para pesquisar:\n",
        "1.\n",
        "2.\n",
        "3.\n",
        "\n",
        "Conceitos importantes:\n",
        "-\n",
        "-\n",
        "-\n",
        "\n",
        "Links úteis:\n",
        "- Documentação oficial: https://docs.python.org/pt-br/3/\n",
        "- Python Tutor (visualização de código): http://pythontutor.com/\n",
        "\"\"\"\n",
        "```\n",
        "\n",
        "---"
      ],
      "metadata": {
        "id": "6bYzhKLCZW3b"
      }
    },
    {
      "cell_type": "code",
      "source": [],
      "metadata": {
        "id": "aE9HgQyY0BR-"
      },
      "execution_count": null,
      "outputs": []
    },
    {
      "cell_type": "markdown",
      "source": [
        "---\n",
        "\n",
        "## 🖥️ Aula 2: Modo Interativo\n",
        "\n",
        "```python\n",
        "# Seção para suas anotações sobre o Modo Interativo do Python\n",
        "\n",
        "\"\"\"\n",
        "Notas sobre o modo interativo:\n",
        "- Acessado via terminal com o comando 'python' ou 'python3'\n",
        "- Útil para testes rápidos e experimentações\n",
        "- Comandos são executados imediatamente após pressionar Enter\n",
        "- Histórico de comandos acessível com as setas para cima/baixo\n",
        "\"\"\"\n",
        "\n",
        "# Exemplos de comandos que você pode testar no modo interativo:\n",
        "2 + 2\n",
        "print(\"Olá, mundo!\")\n",
        "import sys\n",
        "sys.version\n",
        "```\n",
        "\n",
        "---"
      ],
      "metadata": {
        "id": "zcorpOxV0Bs5"
      }
    },
    {
      "cell_type": "code",
      "source": [],
      "metadata": {
        "id": "GxJNAPrT0CJv"
      },
      "execution_count": null,
      "outputs": []
    },
    {
      "cell_type": "markdown",
      "source": [
        "---\n",
        "\n",
        "## 🔤 Aula 3: Variáveis e Constantes\n",
        "\n",
        "```python\n",
        "# Seção para suas anotações sobre Variáveis e Constantes\n",
        "\n",
        "# Variáveis em Python\n",
        "nome = \"Maria\"\n",
        "idade = 25\n",
        "altura = 1.65\n",
        "\n",
        "# Python não tem constantes \"verdadeiras\", mas por convenção:\n",
        "PI = 3.14159\n",
        "GRAVIDADE = 9.8\n",
        "DIAS_SEMANA = 7\n",
        "\n",
        "# Escopo de variáveis\n",
        "def exemplo_escopo():\n",
        "    variavel_local = \"Só existe dentro da função\"\n",
        "    print(variavel_local)\n",
        "    print(nome)  # Variável global acessível\n",
        "\n",
        "# Múltiplas atribuições\n",
        "x, y, z = 1, 2, 3\n",
        "\n",
        "print(f\"Nome: {nome}, Idade: {idade}, Altura: {altura}\")\n",
        "print(f\"Valor de PI: {PI}\")\n",
        "```\n",
        "\n",
        "---"
      ],
      "metadata": {
        "id": "XXRbr9TK0CRI"
      }
    },
    {
      "cell_type": "code",
      "source": [],
      "metadata": {
        "id": "BHQUtokm0CX9"
      },
      "execution_count": null,
      "outputs": []
    },
    {
      "cell_type": "markdown",
      "source": [
        "---\n",
        "\n",
        "## 🔠 Aula 5: Funções de Entrada e Saída\n",
        "\n",
        "```python\n",
        "# Seção para suas anotações sobre Funções de Entrada e Saída\n",
        "\n",
        "# Função input() - entrada de dados\n",
        "nome = input(\"Digite seu nome: \")\n",
        "\n",
        "# Entrada de números (com conversão)\n",
        "idade = int(input(\"Digite sua idade: \"))\n",
        "altura = float(input(\"Digite sua altura em metros: \"))\n",
        "\n",
        "# Função print() - saída de dados\n",
        "print(\"Olá, mundo!\")\n",
        "\n",
        "# Formatação de strings com f-strings\n",
        "print(f\"Olá {nome}, você tem {idade} anos e {altura}m de altura.\")\n",
        "\n",
        "# Formatação com método format()\n",
        "print(\"Olá {}, você tem {} anos.\".format(nome, idade))\n",
        "\n",
        "# Parâmetros da função print()\n",
        "print(\"Python\", \"é\", \"incrível\", sep=\"-\", end=\"!\\n\")\n",
        "\n",
        "# Escrevendo em arquivos\n",
        "with open(\"exemplo.txt\", \"w\") as arquivo:\n",
        "    arquivo.write(\"Olá, este é um exemplo de escrita em arquivo!\")\n",
        "```\n",
        "\n",
        "---"
      ],
      "metadata": {
        "id": "tE1tqo2_0CeO"
      }
    },
    {
      "cell_type": "code",
      "source": [],
      "metadata": {
        "id": "oDd7bcY60Cmd"
      },
      "execution_count": null,
      "outputs": []
    },
    {
      "cell_type": "markdown",
      "source": [
        "---\n",
        "\n",
        "## 🔍 Exercícios Práticos\n",
        "\n",
        "```python\n",
        "# Exercício 1: Trabalhando com tipos de dados\n",
        "# Crie variáveis de diferentes tipos e imprima seus valores e tipos\n",
        "\n",
        "# Exercício 2: Conversão entre tipos\n",
        "# Converta entre diferentes tipos de dados e observe os resultados\n",
        "\n",
        "# Exercício 3: Entrada e saída\n",
        "# Crie um programa que solicite informações ao usuário e exiba-as formatadas\n",
        "\n",
        "# Exercício 4: Desafio\n",
        "# Crie um programa que utilize todos os conceitos aprendidos até agora\n",
        "```\n",
        "\n",
        "---"
      ],
      "metadata": {
        "id": "O3pZboHL0Cse"
      }
    },
    {
      "cell_type": "code",
      "source": [],
      "metadata": {
        "id": "d0XoDuklZWHX"
      },
      "execution_count": null,
      "outputs": []
    }
  ]
}